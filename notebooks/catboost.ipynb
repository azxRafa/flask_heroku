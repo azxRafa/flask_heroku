{
 "cells": [
  {
   "cell_type": "code",
   "execution_count": 1,
   "id": "1b90a346",
   "metadata": {
    "_cell_guid": "b1076dfc-b9ad-4769-8c92-a6c4dae69d19",
    "_uuid": "8f2839f25d086af736a60e9eeb907d3b93b6e0e5",
    "execution": {
     "iopub.execute_input": "2021-12-15T17:38:32.914308Z",
     "iopub.status.busy": "2021-12-15T17:38:32.913080Z",
     "iopub.status.idle": "2021-12-15T17:38:32.927039Z",
     "shell.execute_reply": "2021-12-15T17:38:32.927800Z",
     "shell.execute_reply.started": "2021-12-15T17:37:06.914290Z"
    },
    "papermill": {
     "duration": 0.034237,
     "end_time": "2021-12-15T17:38:32.928155",
     "exception": false,
     "start_time": "2021-12-15T17:38:32.893918",
     "status": "completed"
    },
    "tags": []
   },
   "outputs": [],
   "source": [
    "# This Python 3 environment comes with many helpful analytics libraries installed\n",
    "# It is defined by the kaggle/python Docker image: https://github.com/kaggle/docker-python\n",
    "# For example, here's several helpful packages to load\n",
    "\n",
    "import numpy as np # linear algebra\n",
    "import pandas as pd # data processing, CSV file I/O (e.g. pd.read_csv)\n",
    "\n",
    "# Input data files are available in the read-only \"../input/\" directory\n",
    "# For example, running this (by clicking run or pressing Shift+Enter) will list all files under the input directory\n",
    "\n",
    "import os\n",
    "for dirname, _, filenames in os.walk('/kaggle/input'):\n",
    "    for filename in filenames:\n",
    "        print(os.path.join(dirname, filename))\n",
    "\n",
    "# You can write up to 20GB to the current directory (/kaggle/working/) that gets preserved as output when you create a version using \"Save & Run All\" \n",
    "# You can also write temporary files to /kaggle/temp/, but they won't be saved outside of the current session"
   ]
  },
  {
   "cell_type": "code",
   "execution_count": 17,
   "id": "05003f89",
   "metadata": {
    "execution": {
     "iopub.execute_input": "2021-12-15T17:38:32.961271Z",
     "iopub.status.busy": "2021-12-15T17:38:32.960702Z",
     "iopub.status.idle": "2021-12-15T17:38:34.152364Z",
     "shell.execute_reply": "2021-12-15T17:38:34.151774Z",
     "shell.execute_reply.started": "2021-12-15T17:37:06.926637Z"
    },
    "papermill": {
     "duration": 1.208482,
     "end_time": "2021-12-15T17:38:34.152508",
     "exception": false,
     "start_time": "2021-12-15T17:38:32.944026",
     "status": "completed"
    },
    "tags": []
   },
   "outputs": [],
   "source": [
    "from catboost import CatBoostRegressor\n",
    "from sklearn.model_selection import train_test_split"
   ]
  },
  {
   "cell_type": "code",
   "execution_count": 18,
   "id": "2957ec32",
   "metadata": {
    "execution": {
     "iopub.execute_input": "2021-12-15T17:38:34.185401Z",
     "iopub.status.busy": "2021-12-15T17:38:34.184775Z",
     "iopub.status.idle": "2021-12-15T17:38:34.201992Z",
     "shell.execute_reply": "2021-12-15T17:38:34.202500Z",
     "shell.execute_reply.started": "2021-12-15T17:37:06.938059Z"
    },
    "papermill": {
     "duration": 0.035255,
     "end_time": "2021-12-15T17:38:34.202693",
     "exception": false,
     "start_time": "2021-12-15T17:38:34.167438",
     "status": "completed"
    },
    "tags": []
   },
   "outputs": [],
   "source": [
    "df = pd.read_csv('../data/train.csv')"
   ]
  },
  {
   "cell_type": "code",
   "execution_count": 19,
   "id": "88e6d24c",
   "metadata": {
    "execution": {
     "iopub.execute_input": "2021-12-15T17:38:34.235553Z",
     "iopub.status.busy": "2021-12-15T17:38:34.234923Z",
     "iopub.status.idle": "2021-12-15T17:38:34.760770Z",
     "shell.execute_reply": "2021-12-15T17:38:34.760111Z",
     "shell.execute_reply.started": "2021-12-15T17:37:06.957690Z"
    },
    "papermill": {
     "duration": 0.543145,
     "end_time": "2021-12-15T17:38:34.760950",
     "exception": false,
     "start_time": "2021-12-15T17:38:34.217805",
     "status": "completed"
    },
    "tags": []
   },
   "outputs": [],
   "source": [
    "test = pd.read_csv('../data/test.csv')"
   ]
  },
  {
   "cell_type": "code",
   "execution_count": 20,
   "outputs": [
    {
     "name": "stdout",
     "output_type": "stream",
     "text": [
      "<class 'pandas.core.frame.DataFrame'>\n",
      "RangeIndex: 137 entries, 0 to 136\n",
      "Data columns (total 43 columns):\n",
      " #   Column      Non-Null Count  Dtype  \n",
      "---  ------      --------------  -----  \n",
      " 0   Id          137 non-null    int64  \n",
      " 1   Open Date   137 non-null    object \n",
      " 2   City        137 non-null    object \n",
      " 3   City Group  137 non-null    object \n",
      " 4   Type        137 non-null    object \n",
      " 5   P1          137 non-null    int64  \n",
      " 6   P2          137 non-null    float64\n",
      " 7   P3          137 non-null    float64\n",
      " 8   P4          137 non-null    float64\n",
      " 9   P5          137 non-null    int64  \n",
      " 10  P6          137 non-null    int64  \n",
      " 11  P7          137 non-null    int64  \n",
      " 12  P8          137 non-null    int64  \n",
      " 13  P9          137 non-null    int64  \n",
      " 14  P10         137 non-null    int64  \n",
      " 15  P11         137 non-null    int64  \n",
      " 16  P12         137 non-null    int64  \n",
      " 17  P13         137 non-null    float64\n",
      " 18  P14         137 non-null    int64  \n",
      " 19  P15         137 non-null    int64  \n",
      " 20  P16         137 non-null    int64  \n",
      " 21  P17         137 non-null    int64  \n",
      " 22  P18         137 non-null    int64  \n",
      " 23  P19         137 non-null    int64  \n",
      " 24  P20         137 non-null    int64  \n",
      " 25  P21         137 non-null    int64  \n",
      " 26  P22         137 non-null    int64  \n",
      " 27  P23         137 non-null    int64  \n",
      " 28  P24         137 non-null    int64  \n",
      " 29  P25         137 non-null    int64  \n",
      " 30  P26         137 non-null    float64\n",
      " 31  P27         137 non-null    float64\n",
      " 32  P28         137 non-null    float64\n",
      " 33  P29         137 non-null    float64\n",
      " 34  P30         137 non-null    int64  \n",
      " 35  P31         137 non-null    int64  \n",
      " 36  P32         137 non-null    int64  \n",
      " 37  P33         137 non-null    int64  \n",
      " 38  P34         137 non-null    int64  \n",
      " 39  P35         137 non-null    int64  \n",
      " 40  P36         137 non-null    int64  \n",
      " 41  P37         137 non-null    int64  \n",
      " 42  revenue     137 non-null    float64\n",
      "dtypes: float64(9), int64(30), object(4)\n",
      "memory usage: 46.1+ KB\n"
     ]
    }
   ],
   "source": [
    "df.info()"
   ],
   "metadata": {
    "collapsed": false,
    "pycharm": {
     "name": "#%%\n"
    }
   }
  },
  {
   "cell_type": "markdown",
   "source": [],
   "metadata": {
    "collapsed": false
   }
  },
  {
   "cell_type": "code",
   "execution_count": 14,
   "outputs": [],
   "source": [
    "#df = df.drop('revenue', axis=1)"
   ],
   "metadata": {
    "collapsed": false,
    "pycharm": {
     "name": "#%%\n"
    }
   }
  },
  {
   "cell_type": "code",
   "execution_count": 16,
   "outputs": [
    {
     "data": {
      "text/plain": "[0,\n 5,\n 9,\n 10,\n 11,\n 12,\n 13,\n 14,\n 15,\n 16,\n 18,\n 19,\n 20,\n 21,\n 22,\n 23,\n 24,\n 25,\n 26,\n 27,\n 28,\n 29,\n 34,\n 35,\n 36,\n 37,\n 38,\n 39,\n 40,\n 41]"
     },
     "execution_count": 16,
     "metadata": {},
     "output_type": "execute_result"
    }
   ],
   "source": [
    "[df.columns.get_loc(c) for c in df.dtypes[df.dtypes == 'int64'].index]"
   ],
   "metadata": {
    "collapsed": false,
    "pycharm": {
     "name": "#%%\n"
    }
   }
  },
  {
   "cell_type": "code",
   "execution_count": 21,
   "id": "335fae6f",
   "metadata": {
    "execution": {
     "iopub.execute_input": "2021-12-15T17:38:34.802632Z",
     "iopub.status.busy": "2021-12-15T17:38:34.801752Z",
     "iopub.status.idle": "2021-12-15T17:38:34.850622Z",
     "shell.execute_reply": "2021-12-15T17:38:34.851089Z",
     "shell.execute_reply.started": "2021-12-15T17:37:07.490301Z"
    },
    "papermill": {
     "duration": 0.075989,
     "end_time": "2021-12-15T17:38:34.851256",
     "exception": false,
     "start_time": "2021-12-15T17:38:34.775267",
     "status": "completed"
    },
    "tags": []
   },
   "outputs": [
    {
     "data": {
      "text/plain": "          Id   Open Date            City  City Group Type  P1   P2   P3   P4  \\\n0          0  01/22/2011           Niğde       Other   FC   1  4.0  4.0  4.0   \n1          1  03/18/2011           Konya       Other   IL   3  4.0  4.0  4.0   \n2          2  10/30/2013          Ankara  Big Cities   FC   3  4.0  4.0  4.0   \n3          3  05/06/2013         Kocaeli       Other   IL   2  4.0  4.0  4.0   \n4          4  07/31/2013  Afyonkarahisar       Other   FC   2  4.0  4.0  4.0   \n...      ...         ...             ...         ...  ...  ..  ...  ...  ...   \n99995  99995  01/05/2000         Antalya       Other   FC   5  5.0  4.0  4.0   \n99996  99996  07/18/2011           Niğde       Other   IL   1  2.0  4.0  3.0   \n99997  99997  12/29/2012        İstanbul  Big Cities   IL   4  5.0  4.0  4.0   \n99998  99998  10/12/2013        İstanbul  Big Cities   FC  12  7.5  6.0  6.0   \n99999  99999  10/05/2010        İstanbul  Big Cities   IL   2  5.0  4.0  4.0   \n\n       P5  ...  P28  P29  P30  P31  P32  P33  P34  P35  P36  P37  \n0       1  ...  2.0  3.0    0    0    0    0    0    0    0    0  \n1       2  ...  1.0  3.0    0    0    0    0    0    0    0    0  \n2       2  ...  2.0  3.0    0    0    0    0    0    0    0    0  \n3       2  ...  2.0  3.0    0    4    0    0    0    0    0    0  \n4       1  ...  5.0  3.0    0    0    0    0    0    0    0    0  \n...    ..  ...  ...  ...  ...  ...  ...  ...  ...  ...  ...  ...  \n99995   2  ...  2.0  3.0    0    0    0    0    0    0    0    0  \n99996   1  ...  1.0  3.0    5    0    0    0    4    0    0    0  \n99997   1  ...  4.0  1.0    5    5    3    2    4    4    4    2  \n99998   4  ...  7.5  5.0    0    0    0    4    0    0    0    0  \n99999   2  ...  5.0  3.0    0    2    0    2    2    4    2    0  \n\n[100000 rows x 42 columns]",
      "text/html": "<div>\n<style scoped>\n    .dataframe tbody tr th:only-of-type {\n        vertical-align: middle;\n    }\n\n    .dataframe tbody tr th {\n        vertical-align: top;\n    }\n\n    .dataframe thead th {\n        text-align: right;\n    }\n</style>\n<table border=\"1\" class=\"dataframe\">\n  <thead>\n    <tr style=\"text-align: right;\">\n      <th></th>\n      <th>Id</th>\n      <th>Open Date</th>\n      <th>City</th>\n      <th>City Group</th>\n      <th>Type</th>\n      <th>P1</th>\n      <th>P2</th>\n      <th>P3</th>\n      <th>P4</th>\n      <th>P5</th>\n      <th>...</th>\n      <th>P28</th>\n      <th>P29</th>\n      <th>P30</th>\n      <th>P31</th>\n      <th>P32</th>\n      <th>P33</th>\n      <th>P34</th>\n      <th>P35</th>\n      <th>P36</th>\n      <th>P37</th>\n    </tr>\n  </thead>\n  <tbody>\n    <tr>\n      <th>0</th>\n      <td>0</td>\n      <td>01/22/2011</td>\n      <td>Niğde</td>\n      <td>Other</td>\n      <td>FC</td>\n      <td>1</td>\n      <td>4.0</td>\n      <td>4.0</td>\n      <td>4.0</td>\n      <td>1</td>\n      <td>...</td>\n      <td>2.0</td>\n      <td>3.0</td>\n      <td>0</td>\n      <td>0</td>\n      <td>0</td>\n      <td>0</td>\n      <td>0</td>\n      <td>0</td>\n      <td>0</td>\n      <td>0</td>\n    </tr>\n    <tr>\n      <th>1</th>\n      <td>1</td>\n      <td>03/18/2011</td>\n      <td>Konya</td>\n      <td>Other</td>\n      <td>IL</td>\n      <td>3</td>\n      <td>4.0</td>\n      <td>4.0</td>\n      <td>4.0</td>\n      <td>2</td>\n      <td>...</td>\n      <td>1.0</td>\n      <td>3.0</td>\n      <td>0</td>\n      <td>0</td>\n      <td>0</td>\n      <td>0</td>\n      <td>0</td>\n      <td>0</td>\n      <td>0</td>\n      <td>0</td>\n    </tr>\n    <tr>\n      <th>2</th>\n      <td>2</td>\n      <td>10/30/2013</td>\n      <td>Ankara</td>\n      <td>Big Cities</td>\n      <td>FC</td>\n      <td>3</td>\n      <td>4.0</td>\n      <td>4.0</td>\n      <td>4.0</td>\n      <td>2</td>\n      <td>...</td>\n      <td>2.0</td>\n      <td>3.0</td>\n      <td>0</td>\n      <td>0</td>\n      <td>0</td>\n      <td>0</td>\n      <td>0</td>\n      <td>0</td>\n      <td>0</td>\n      <td>0</td>\n    </tr>\n    <tr>\n      <th>3</th>\n      <td>3</td>\n      <td>05/06/2013</td>\n      <td>Kocaeli</td>\n      <td>Other</td>\n      <td>IL</td>\n      <td>2</td>\n      <td>4.0</td>\n      <td>4.0</td>\n      <td>4.0</td>\n      <td>2</td>\n      <td>...</td>\n      <td>2.0</td>\n      <td>3.0</td>\n      <td>0</td>\n      <td>4</td>\n      <td>0</td>\n      <td>0</td>\n      <td>0</td>\n      <td>0</td>\n      <td>0</td>\n      <td>0</td>\n    </tr>\n    <tr>\n      <th>4</th>\n      <td>4</td>\n      <td>07/31/2013</td>\n      <td>Afyonkarahisar</td>\n      <td>Other</td>\n      <td>FC</td>\n      <td>2</td>\n      <td>4.0</td>\n      <td>4.0</td>\n      <td>4.0</td>\n      <td>1</td>\n      <td>...</td>\n      <td>5.0</td>\n      <td>3.0</td>\n      <td>0</td>\n      <td>0</td>\n      <td>0</td>\n      <td>0</td>\n      <td>0</td>\n      <td>0</td>\n      <td>0</td>\n      <td>0</td>\n    </tr>\n    <tr>\n      <th>...</th>\n      <td>...</td>\n      <td>...</td>\n      <td>...</td>\n      <td>...</td>\n      <td>...</td>\n      <td>...</td>\n      <td>...</td>\n      <td>...</td>\n      <td>...</td>\n      <td>...</td>\n      <td>...</td>\n      <td>...</td>\n      <td>...</td>\n      <td>...</td>\n      <td>...</td>\n      <td>...</td>\n      <td>...</td>\n      <td>...</td>\n      <td>...</td>\n      <td>...</td>\n      <td>...</td>\n    </tr>\n    <tr>\n      <th>99995</th>\n      <td>99995</td>\n      <td>01/05/2000</td>\n      <td>Antalya</td>\n      <td>Other</td>\n      <td>FC</td>\n      <td>5</td>\n      <td>5.0</td>\n      <td>4.0</td>\n      <td>4.0</td>\n      <td>2</td>\n      <td>...</td>\n      <td>2.0</td>\n      <td>3.0</td>\n      <td>0</td>\n      <td>0</td>\n      <td>0</td>\n      <td>0</td>\n      <td>0</td>\n      <td>0</td>\n      <td>0</td>\n      <td>0</td>\n    </tr>\n    <tr>\n      <th>99996</th>\n      <td>99996</td>\n      <td>07/18/2011</td>\n      <td>Niğde</td>\n      <td>Other</td>\n      <td>IL</td>\n      <td>1</td>\n      <td>2.0</td>\n      <td>4.0</td>\n      <td>3.0</td>\n      <td>1</td>\n      <td>...</td>\n      <td>1.0</td>\n      <td>3.0</td>\n      <td>5</td>\n      <td>0</td>\n      <td>0</td>\n      <td>0</td>\n      <td>4</td>\n      <td>0</td>\n      <td>0</td>\n      <td>0</td>\n    </tr>\n    <tr>\n      <th>99997</th>\n      <td>99997</td>\n      <td>12/29/2012</td>\n      <td>İstanbul</td>\n      <td>Big Cities</td>\n      <td>IL</td>\n      <td>4</td>\n      <td>5.0</td>\n      <td>4.0</td>\n      <td>4.0</td>\n      <td>1</td>\n      <td>...</td>\n      <td>4.0</td>\n      <td>1.0</td>\n      <td>5</td>\n      <td>5</td>\n      <td>3</td>\n      <td>2</td>\n      <td>4</td>\n      <td>4</td>\n      <td>4</td>\n      <td>2</td>\n    </tr>\n    <tr>\n      <th>99998</th>\n      <td>99998</td>\n      <td>10/12/2013</td>\n      <td>İstanbul</td>\n      <td>Big Cities</td>\n      <td>FC</td>\n      <td>12</td>\n      <td>7.5</td>\n      <td>6.0</td>\n      <td>6.0</td>\n      <td>4</td>\n      <td>...</td>\n      <td>7.5</td>\n      <td>5.0</td>\n      <td>0</td>\n      <td>0</td>\n      <td>0</td>\n      <td>4</td>\n      <td>0</td>\n      <td>0</td>\n      <td>0</td>\n      <td>0</td>\n    </tr>\n    <tr>\n      <th>99999</th>\n      <td>99999</td>\n      <td>10/05/2010</td>\n      <td>İstanbul</td>\n      <td>Big Cities</td>\n      <td>IL</td>\n      <td>2</td>\n      <td>5.0</td>\n      <td>4.0</td>\n      <td>4.0</td>\n      <td>2</td>\n      <td>...</td>\n      <td>5.0</td>\n      <td>3.0</td>\n      <td>0</td>\n      <td>2</td>\n      <td>0</td>\n      <td>2</td>\n      <td>2</td>\n      <td>4</td>\n      <td>2</td>\n      <td>0</td>\n    </tr>\n  </tbody>\n</table>\n<p>100000 rows × 42 columns</p>\n</div>"
     },
     "execution_count": 21,
     "metadata": {},
     "output_type": "execute_result"
    }
   ],
   "source": [
    "test"
   ]
  },
  {
   "cell_type": "code",
   "execution_count": 22,
   "id": "97eaebe9",
   "metadata": {
    "execution": {
     "iopub.execute_input": "2021-12-15T17:38:34.894538Z",
     "iopub.status.busy": "2021-12-15T17:38:34.889682Z",
     "iopub.status.idle": "2021-12-15T17:38:34.999219Z",
     "shell.execute_reply": "2021-12-15T17:38:34.998703Z",
     "shell.execute_reply.started": "2021-12-15T17:37:07.545510Z"
    },
    "papermill": {
     "duration": 0.132993,
     "end_time": "2021-12-15T17:38:34.999371",
     "exception": false,
     "start_time": "2021-12-15T17:38:34.866378",
     "status": "completed"
    },
    "tags": []
   },
   "outputs": [
    {
     "data": {
      "text/plain": "         count          mean           std        min        25%        50%  \\\nId       137.0  6.800000e+01  3.969257e+01        0.0       34.0       68.0   \nP1       137.0  4.014599e+00  2.910391e+00        1.0        2.0        3.0   \nP2       137.0  4.408759e+00  1.514900e+00        1.0        4.0        5.0   \nP3       137.0  4.317518e+00  1.032337e+00        0.0        4.0        4.0   \nP4       137.0  4.372263e+00  1.016462e+00        3.0        4.0        4.0   \nP5       137.0  2.007299e+00  1.209620e+00        1.0        1.0        2.0   \nP6       137.0  3.357664e+00  2.134235e+00        1.0        2.0        3.0   \nP7       137.0  5.423358e+00  2.296809e+00        1.0        5.0        5.0   \nP8       137.0  5.153285e+00  1.858567e+00        1.0        4.0        5.0   \nP9       137.0  5.445255e+00  1.834793e+00        4.0        4.0        5.0   \nP10      137.0  5.489051e+00  1.847561e+00        4.0        5.0        5.0   \nP11      137.0  3.262774e+00  1.910767e+00        1.0        2.0        3.0   \nP12      137.0  5.299270e+00  1.941668e+00        2.0        4.0        5.0   \nP13      137.0  5.080292e+00  1.036527e+00        3.0        5.0        5.0   \nP14      137.0  1.416058e+00  2.729583e+00        0.0        0.0        0.0   \nP15      137.0  1.386861e+00  2.398677e+00        0.0        0.0        0.0   \nP16      137.0  1.941606e+00  3.505807e+00        0.0        0.0        0.0   \nP17      137.0  1.036496e+00  2.030679e+00        0.0        0.0        0.0   \nP18      137.0  1.941606e+00  3.300549e+00        0.0        0.0        0.0   \nP19      137.0  4.905109e+00  5.604467e+00        1.0        2.0        3.0   \nP20      137.0  4.547445e+00  3.708041e+00        1.0        2.0        4.0   \nP21      137.0  2.270073e+00  2.052630e+00        1.0        1.0        1.0   \nP22      137.0  2.226277e+00  1.230690e+00        1.0        1.0        2.0   \nP23      137.0  3.423358e+00  4.559609e+00        1.0        1.0        2.0   \nP24      137.0  1.372263e+00  2.304112e+00        0.0        0.0        0.0   \nP25      137.0  1.211679e+00  2.133179e+00        0.0        0.0        0.0   \nP26      137.0  1.470803e+00  2.612024e+00        0.0        0.0        0.0   \nP27      137.0  1.145985e+00  2.067039e+00        0.0        0.0        0.0   \nP28      137.0  3.222628e+00  2.308806e+00        1.0        2.0        2.5   \nP29      137.0  3.135036e+00  1.680887e+00        0.0        2.5        3.0   \nP30      137.0  2.729927e+00  5.536647e+00        0.0        0.0        0.0   \nP31      137.0  1.941606e+00  3.512093e+00        0.0        0.0        0.0   \nP32      137.0  2.525547e+00  5.230117e+00        0.0        0.0        0.0   \nP33      137.0  1.138686e+00  1.698540e+00        0.0        0.0        0.0   \nP34      137.0  2.489051e+00  5.165093e+00        0.0        0.0        0.0   \nP35      137.0  2.029197e+00  3.436272e+00        0.0        0.0        0.0   \nP36      137.0  2.211679e+00  4.168211e+00        0.0        0.0        0.0   \nP37      137.0  1.116788e+00  1.790768e+00        0.0        0.0        0.0   \nrevenue  137.0  4.453533e+06  2.576072e+06  1149870.0  2999068.0  3939804.0   \n\n               75%         max  \nId           102.0       136.0  \nP1             4.0        12.0  \nP2             5.0         7.5  \nP3             5.0         7.5  \nP4             5.0         7.5  \nP5             2.0         8.0  \nP6             4.0        10.0  \nP7             5.0        10.0  \nP8             5.0        10.0  \nP9             5.0        10.0  \nP10            5.0        10.0  \nP11            4.0        10.0  \nP12            5.0        10.0  \nP13            5.0         7.5  \nP14            2.0        15.0  \nP15            2.0        10.0  \nP16            3.0        15.0  \nP17            1.0        15.0  \nP18            4.0        12.0  \nP19            5.0        25.0  \nP20            5.0        15.0  \nP21            3.0        15.0  \nP22            3.0         5.0  \nP23            5.0        25.0  \nP24            2.0        10.0  \nP25            2.0        10.0  \nP26            2.5        12.5  \nP27            2.0        12.5  \nP28            4.0        12.5  \nP29            3.0         7.5  \nP30            4.0        25.0  \nP31            3.0        15.0  \nP32            3.0        25.0  \nP33            2.0         6.0  \nP34            3.0        24.0  \nP35            4.0        15.0  \nP36            3.0        20.0  \nP37            2.0         8.0  \nrevenue  5166635.0  19696939.0  ",
      "text/html": "<div>\n<style scoped>\n    .dataframe tbody tr th:only-of-type {\n        vertical-align: middle;\n    }\n\n    .dataframe tbody tr th {\n        vertical-align: top;\n    }\n\n    .dataframe thead th {\n        text-align: right;\n    }\n</style>\n<table border=\"1\" class=\"dataframe\">\n  <thead>\n    <tr style=\"text-align: right;\">\n      <th></th>\n      <th>count</th>\n      <th>mean</th>\n      <th>std</th>\n      <th>min</th>\n      <th>25%</th>\n      <th>50%</th>\n      <th>75%</th>\n      <th>max</th>\n    </tr>\n  </thead>\n  <tbody>\n    <tr>\n      <th>Id</th>\n      <td>137.0</td>\n      <td>6.800000e+01</td>\n      <td>3.969257e+01</td>\n      <td>0.0</td>\n      <td>34.0</td>\n      <td>68.0</td>\n      <td>102.0</td>\n      <td>136.0</td>\n    </tr>\n    <tr>\n      <th>P1</th>\n      <td>137.0</td>\n      <td>4.014599e+00</td>\n      <td>2.910391e+00</td>\n      <td>1.0</td>\n      <td>2.0</td>\n      <td>3.0</td>\n      <td>4.0</td>\n      <td>12.0</td>\n    </tr>\n    <tr>\n      <th>P2</th>\n      <td>137.0</td>\n      <td>4.408759e+00</td>\n      <td>1.514900e+00</td>\n      <td>1.0</td>\n      <td>4.0</td>\n      <td>5.0</td>\n      <td>5.0</td>\n      <td>7.5</td>\n    </tr>\n    <tr>\n      <th>P3</th>\n      <td>137.0</td>\n      <td>4.317518e+00</td>\n      <td>1.032337e+00</td>\n      <td>0.0</td>\n      <td>4.0</td>\n      <td>4.0</td>\n      <td>5.0</td>\n      <td>7.5</td>\n    </tr>\n    <tr>\n      <th>P4</th>\n      <td>137.0</td>\n      <td>4.372263e+00</td>\n      <td>1.016462e+00</td>\n      <td>3.0</td>\n      <td>4.0</td>\n      <td>4.0</td>\n      <td>5.0</td>\n      <td>7.5</td>\n    </tr>\n    <tr>\n      <th>P5</th>\n      <td>137.0</td>\n      <td>2.007299e+00</td>\n      <td>1.209620e+00</td>\n      <td>1.0</td>\n      <td>1.0</td>\n      <td>2.0</td>\n      <td>2.0</td>\n      <td>8.0</td>\n    </tr>\n    <tr>\n      <th>P6</th>\n      <td>137.0</td>\n      <td>3.357664e+00</td>\n      <td>2.134235e+00</td>\n      <td>1.0</td>\n      <td>2.0</td>\n      <td>3.0</td>\n      <td>4.0</td>\n      <td>10.0</td>\n    </tr>\n    <tr>\n      <th>P7</th>\n      <td>137.0</td>\n      <td>5.423358e+00</td>\n      <td>2.296809e+00</td>\n      <td>1.0</td>\n      <td>5.0</td>\n      <td>5.0</td>\n      <td>5.0</td>\n      <td>10.0</td>\n    </tr>\n    <tr>\n      <th>P8</th>\n      <td>137.0</td>\n      <td>5.153285e+00</td>\n      <td>1.858567e+00</td>\n      <td>1.0</td>\n      <td>4.0</td>\n      <td>5.0</td>\n      <td>5.0</td>\n      <td>10.0</td>\n    </tr>\n    <tr>\n      <th>P9</th>\n      <td>137.0</td>\n      <td>5.445255e+00</td>\n      <td>1.834793e+00</td>\n      <td>4.0</td>\n      <td>4.0</td>\n      <td>5.0</td>\n      <td>5.0</td>\n      <td>10.0</td>\n    </tr>\n    <tr>\n      <th>P10</th>\n      <td>137.0</td>\n      <td>5.489051e+00</td>\n      <td>1.847561e+00</td>\n      <td>4.0</td>\n      <td>5.0</td>\n      <td>5.0</td>\n      <td>5.0</td>\n      <td>10.0</td>\n    </tr>\n    <tr>\n      <th>P11</th>\n      <td>137.0</td>\n      <td>3.262774e+00</td>\n      <td>1.910767e+00</td>\n      <td>1.0</td>\n      <td>2.0</td>\n      <td>3.0</td>\n      <td>4.0</td>\n      <td>10.0</td>\n    </tr>\n    <tr>\n      <th>P12</th>\n      <td>137.0</td>\n      <td>5.299270e+00</td>\n      <td>1.941668e+00</td>\n      <td>2.0</td>\n      <td>4.0</td>\n      <td>5.0</td>\n      <td>5.0</td>\n      <td>10.0</td>\n    </tr>\n    <tr>\n      <th>P13</th>\n      <td>137.0</td>\n      <td>5.080292e+00</td>\n      <td>1.036527e+00</td>\n      <td>3.0</td>\n      <td>5.0</td>\n      <td>5.0</td>\n      <td>5.0</td>\n      <td>7.5</td>\n    </tr>\n    <tr>\n      <th>P14</th>\n      <td>137.0</td>\n      <td>1.416058e+00</td>\n      <td>2.729583e+00</td>\n      <td>0.0</td>\n      <td>0.0</td>\n      <td>0.0</td>\n      <td>2.0</td>\n      <td>15.0</td>\n    </tr>\n    <tr>\n      <th>P15</th>\n      <td>137.0</td>\n      <td>1.386861e+00</td>\n      <td>2.398677e+00</td>\n      <td>0.0</td>\n      <td>0.0</td>\n      <td>0.0</td>\n      <td>2.0</td>\n      <td>10.0</td>\n    </tr>\n    <tr>\n      <th>P16</th>\n      <td>137.0</td>\n      <td>1.941606e+00</td>\n      <td>3.505807e+00</td>\n      <td>0.0</td>\n      <td>0.0</td>\n      <td>0.0</td>\n      <td>3.0</td>\n      <td>15.0</td>\n    </tr>\n    <tr>\n      <th>P17</th>\n      <td>137.0</td>\n      <td>1.036496e+00</td>\n      <td>2.030679e+00</td>\n      <td>0.0</td>\n      <td>0.0</td>\n      <td>0.0</td>\n      <td>1.0</td>\n      <td>15.0</td>\n    </tr>\n    <tr>\n      <th>P18</th>\n      <td>137.0</td>\n      <td>1.941606e+00</td>\n      <td>3.300549e+00</td>\n      <td>0.0</td>\n      <td>0.0</td>\n      <td>0.0</td>\n      <td>4.0</td>\n      <td>12.0</td>\n    </tr>\n    <tr>\n      <th>P19</th>\n      <td>137.0</td>\n      <td>4.905109e+00</td>\n      <td>5.604467e+00</td>\n      <td>1.0</td>\n      <td>2.0</td>\n      <td>3.0</td>\n      <td>5.0</td>\n      <td>25.0</td>\n    </tr>\n    <tr>\n      <th>P20</th>\n      <td>137.0</td>\n      <td>4.547445e+00</td>\n      <td>3.708041e+00</td>\n      <td>1.0</td>\n      <td>2.0</td>\n      <td>4.0</td>\n      <td>5.0</td>\n      <td>15.0</td>\n    </tr>\n    <tr>\n      <th>P21</th>\n      <td>137.0</td>\n      <td>2.270073e+00</td>\n      <td>2.052630e+00</td>\n      <td>1.0</td>\n      <td>1.0</td>\n      <td>1.0</td>\n      <td>3.0</td>\n      <td>15.0</td>\n    </tr>\n    <tr>\n      <th>P22</th>\n      <td>137.0</td>\n      <td>2.226277e+00</td>\n      <td>1.230690e+00</td>\n      <td>1.0</td>\n      <td>1.0</td>\n      <td>2.0</td>\n      <td>3.0</td>\n      <td>5.0</td>\n    </tr>\n    <tr>\n      <th>P23</th>\n      <td>137.0</td>\n      <td>3.423358e+00</td>\n      <td>4.559609e+00</td>\n      <td>1.0</td>\n      <td>1.0</td>\n      <td>2.0</td>\n      <td>5.0</td>\n      <td>25.0</td>\n    </tr>\n    <tr>\n      <th>P24</th>\n      <td>137.0</td>\n      <td>1.372263e+00</td>\n      <td>2.304112e+00</td>\n      <td>0.0</td>\n      <td>0.0</td>\n      <td>0.0</td>\n      <td>2.0</td>\n      <td>10.0</td>\n    </tr>\n    <tr>\n      <th>P25</th>\n      <td>137.0</td>\n      <td>1.211679e+00</td>\n      <td>2.133179e+00</td>\n      <td>0.0</td>\n      <td>0.0</td>\n      <td>0.0</td>\n      <td>2.0</td>\n      <td>10.0</td>\n    </tr>\n    <tr>\n      <th>P26</th>\n      <td>137.0</td>\n      <td>1.470803e+00</td>\n      <td>2.612024e+00</td>\n      <td>0.0</td>\n      <td>0.0</td>\n      <td>0.0</td>\n      <td>2.5</td>\n      <td>12.5</td>\n    </tr>\n    <tr>\n      <th>P27</th>\n      <td>137.0</td>\n      <td>1.145985e+00</td>\n      <td>2.067039e+00</td>\n      <td>0.0</td>\n      <td>0.0</td>\n      <td>0.0</td>\n      <td>2.0</td>\n      <td>12.5</td>\n    </tr>\n    <tr>\n      <th>P28</th>\n      <td>137.0</td>\n      <td>3.222628e+00</td>\n      <td>2.308806e+00</td>\n      <td>1.0</td>\n      <td>2.0</td>\n      <td>2.5</td>\n      <td>4.0</td>\n      <td>12.5</td>\n    </tr>\n    <tr>\n      <th>P29</th>\n      <td>137.0</td>\n      <td>3.135036e+00</td>\n      <td>1.680887e+00</td>\n      <td>0.0</td>\n      <td>2.5</td>\n      <td>3.0</td>\n      <td>3.0</td>\n      <td>7.5</td>\n    </tr>\n    <tr>\n      <th>P30</th>\n      <td>137.0</td>\n      <td>2.729927e+00</td>\n      <td>5.536647e+00</td>\n      <td>0.0</td>\n      <td>0.0</td>\n      <td>0.0</td>\n      <td>4.0</td>\n      <td>25.0</td>\n    </tr>\n    <tr>\n      <th>P31</th>\n      <td>137.0</td>\n      <td>1.941606e+00</td>\n      <td>3.512093e+00</td>\n      <td>0.0</td>\n      <td>0.0</td>\n      <td>0.0</td>\n      <td>3.0</td>\n      <td>15.0</td>\n    </tr>\n    <tr>\n      <th>P32</th>\n      <td>137.0</td>\n      <td>2.525547e+00</td>\n      <td>5.230117e+00</td>\n      <td>0.0</td>\n      <td>0.0</td>\n      <td>0.0</td>\n      <td>3.0</td>\n      <td>25.0</td>\n    </tr>\n    <tr>\n      <th>P33</th>\n      <td>137.0</td>\n      <td>1.138686e+00</td>\n      <td>1.698540e+00</td>\n      <td>0.0</td>\n      <td>0.0</td>\n      <td>0.0</td>\n      <td>2.0</td>\n      <td>6.0</td>\n    </tr>\n    <tr>\n      <th>P34</th>\n      <td>137.0</td>\n      <td>2.489051e+00</td>\n      <td>5.165093e+00</td>\n      <td>0.0</td>\n      <td>0.0</td>\n      <td>0.0</td>\n      <td>3.0</td>\n      <td>24.0</td>\n    </tr>\n    <tr>\n      <th>P35</th>\n      <td>137.0</td>\n      <td>2.029197e+00</td>\n      <td>3.436272e+00</td>\n      <td>0.0</td>\n      <td>0.0</td>\n      <td>0.0</td>\n      <td>4.0</td>\n      <td>15.0</td>\n    </tr>\n    <tr>\n      <th>P36</th>\n      <td>137.0</td>\n      <td>2.211679e+00</td>\n      <td>4.168211e+00</td>\n      <td>0.0</td>\n      <td>0.0</td>\n      <td>0.0</td>\n      <td>3.0</td>\n      <td>20.0</td>\n    </tr>\n    <tr>\n      <th>P37</th>\n      <td>137.0</td>\n      <td>1.116788e+00</td>\n      <td>1.790768e+00</td>\n      <td>0.0</td>\n      <td>0.0</td>\n      <td>0.0</td>\n      <td>2.0</td>\n      <td>8.0</td>\n    </tr>\n    <tr>\n      <th>revenue</th>\n      <td>137.0</td>\n      <td>4.453533e+06</td>\n      <td>2.576072e+06</td>\n      <td>1149870.0</td>\n      <td>2999068.0</td>\n      <td>3939804.0</td>\n      <td>5166635.0</td>\n      <td>19696939.0</td>\n    </tr>\n  </tbody>\n</table>\n</div>"
     },
     "execution_count": 22,
     "metadata": {},
     "output_type": "execute_result"
    }
   ],
   "source": [
    "df.describe().T"
   ]
  },
  {
   "cell_type": "code",
   "execution_count": 23,
   "id": "f7f40af8",
   "metadata": {
    "execution": {
     "iopub.execute_input": "2021-12-15T17:38:35.040342Z",
     "iopub.status.busy": "2021-12-15T17:38:35.039740Z",
     "iopub.status.idle": "2021-12-15T17:38:35.064535Z",
     "shell.execute_reply": "2021-12-15T17:38:35.063962Z",
     "shell.execute_reply.started": "2021-12-15T17:37:07.659107Z"
    },
    "papermill": {
     "duration": 0.047929,
     "end_time": "2021-12-15T17:38:35.064672",
     "exception": false,
     "start_time": "2021-12-15T17:38:35.016743",
     "status": "completed"
    },
    "tags": []
   },
   "outputs": [
    {
     "data": {
      "text/plain": "      Id   Open Date        City  City Group Type  P1   P2   P3   P4  P5  ...  \\\n0      0  07/17/1999    İstanbul  Big Cities   IL   4  5.0  4.0  4.0   2  ...   \n1      1  02/14/2008      Ankara  Big Cities   FC   4  5.0  4.0  4.0   1  ...   \n2      2  03/09/2013  Diyarbakır       Other   IL   2  4.0  2.0  5.0   2  ...   \n3      3  02/02/2012       Tokat       Other   IL   6  4.5  6.0  6.0   4  ...   \n4      4  05/09/2009   Gaziantep       Other   IL   3  4.0  3.0  4.0   2  ...   \n..   ...         ...         ...         ...  ...  ..  ...  ...  ...  ..  ...   \n132  132  06/25/2008     Trabzon       Other   FC   2  3.0  3.0  5.0   4  ...   \n133  133  10/12/2006       İzmir  Big Cities   FC   4  5.0  4.0  4.0   2  ...   \n134  134  07/08/2006     Kayseri       Other   FC   3  4.0  4.0  4.0   2  ...   \n135  135  10/29/2010    İstanbul  Big Cities   FC   4  5.0  4.0  5.0   2  ...   \n136  136  09/01/2009    İstanbul  Big Cities   FC   4  5.0  3.0  5.0   2  ...   \n\n     P29  P30  P31  P32  P33  P34  P35  P36  P37    revenue  \n0    3.0    5    3    4    5    5    4    3    4  5653753.0  \n1    3.0    0    0    0    0    0    0    0    0  6923131.0  \n2    3.0    0    0    0    0    0    0    0    0  2055379.0  \n3    7.5   25   12   10    6   18   12   12    6  2675511.0  \n4    3.0    5    1    3    2    3    4    3    3  4316715.0  \n..   ...  ...  ...  ...  ...  ...  ...  ...  ...        ...  \n132  3.0    0    0    0    0    0    0    0    0  5787594.0  \n133  3.0    0    0    0    0    0    0    0    0  9262754.0  \n134  3.0    0    0    0    0    0    0    0    0  2544857.0  \n135  3.0    0    0    0    0    0    0    0    0  7217634.0  \n136  3.0    0    0    0    0    0    0    0    0  6363241.0  \n\n[137 rows x 43 columns]",
      "text/html": "<div>\n<style scoped>\n    .dataframe tbody tr th:only-of-type {\n        vertical-align: middle;\n    }\n\n    .dataframe tbody tr th {\n        vertical-align: top;\n    }\n\n    .dataframe thead th {\n        text-align: right;\n    }\n</style>\n<table border=\"1\" class=\"dataframe\">\n  <thead>\n    <tr style=\"text-align: right;\">\n      <th></th>\n      <th>Id</th>\n      <th>Open Date</th>\n      <th>City</th>\n      <th>City Group</th>\n      <th>Type</th>\n      <th>P1</th>\n      <th>P2</th>\n      <th>P3</th>\n      <th>P4</th>\n      <th>P5</th>\n      <th>...</th>\n      <th>P29</th>\n      <th>P30</th>\n      <th>P31</th>\n      <th>P32</th>\n      <th>P33</th>\n      <th>P34</th>\n      <th>P35</th>\n      <th>P36</th>\n      <th>P37</th>\n      <th>revenue</th>\n    </tr>\n  </thead>\n  <tbody>\n    <tr>\n      <th>0</th>\n      <td>0</td>\n      <td>07/17/1999</td>\n      <td>İstanbul</td>\n      <td>Big Cities</td>\n      <td>IL</td>\n      <td>4</td>\n      <td>5.0</td>\n      <td>4.0</td>\n      <td>4.0</td>\n      <td>2</td>\n      <td>...</td>\n      <td>3.0</td>\n      <td>5</td>\n      <td>3</td>\n      <td>4</td>\n      <td>5</td>\n      <td>5</td>\n      <td>4</td>\n      <td>3</td>\n      <td>4</td>\n      <td>5653753.0</td>\n    </tr>\n    <tr>\n      <th>1</th>\n      <td>1</td>\n      <td>02/14/2008</td>\n      <td>Ankara</td>\n      <td>Big Cities</td>\n      <td>FC</td>\n      <td>4</td>\n      <td>5.0</td>\n      <td>4.0</td>\n      <td>4.0</td>\n      <td>1</td>\n      <td>...</td>\n      <td>3.0</td>\n      <td>0</td>\n      <td>0</td>\n      <td>0</td>\n      <td>0</td>\n      <td>0</td>\n      <td>0</td>\n      <td>0</td>\n      <td>0</td>\n      <td>6923131.0</td>\n    </tr>\n    <tr>\n      <th>2</th>\n      <td>2</td>\n      <td>03/09/2013</td>\n      <td>Diyarbakır</td>\n      <td>Other</td>\n      <td>IL</td>\n      <td>2</td>\n      <td>4.0</td>\n      <td>2.0</td>\n      <td>5.0</td>\n      <td>2</td>\n      <td>...</td>\n      <td>3.0</td>\n      <td>0</td>\n      <td>0</td>\n      <td>0</td>\n      <td>0</td>\n      <td>0</td>\n      <td>0</td>\n      <td>0</td>\n      <td>0</td>\n      <td>2055379.0</td>\n    </tr>\n    <tr>\n      <th>3</th>\n      <td>3</td>\n      <td>02/02/2012</td>\n      <td>Tokat</td>\n      <td>Other</td>\n      <td>IL</td>\n      <td>6</td>\n      <td>4.5</td>\n      <td>6.0</td>\n      <td>6.0</td>\n      <td>4</td>\n      <td>...</td>\n      <td>7.5</td>\n      <td>25</td>\n      <td>12</td>\n      <td>10</td>\n      <td>6</td>\n      <td>18</td>\n      <td>12</td>\n      <td>12</td>\n      <td>6</td>\n      <td>2675511.0</td>\n    </tr>\n    <tr>\n      <th>4</th>\n      <td>4</td>\n      <td>05/09/2009</td>\n      <td>Gaziantep</td>\n      <td>Other</td>\n      <td>IL</td>\n      <td>3</td>\n      <td>4.0</td>\n      <td>3.0</td>\n      <td>4.0</td>\n      <td>2</td>\n      <td>...</td>\n      <td>3.0</td>\n      <td>5</td>\n      <td>1</td>\n      <td>3</td>\n      <td>2</td>\n      <td>3</td>\n      <td>4</td>\n      <td>3</td>\n      <td>3</td>\n      <td>4316715.0</td>\n    </tr>\n    <tr>\n      <th>...</th>\n      <td>...</td>\n      <td>...</td>\n      <td>...</td>\n      <td>...</td>\n      <td>...</td>\n      <td>...</td>\n      <td>...</td>\n      <td>...</td>\n      <td>...</td>\n      <td>...</td>\n      <td>...</td>\n      <td>...</td>\n      <td>...</td>\n      <td>...</td>\n      <td>...</td>\n      <td>...</td>\n      <td>...</td>\n      <td>...</td>\n      <td>...</td>\n      <td>...</td>\n      <td>...</td>\n    </tr>\n    <tr>\n      <th>132</th>\n      <td>132</td>\n      <td>06/25/2008</td>\n      <td>Trabzon</td>\n      <td>Other</td>\n      <td>FC</td>\n      <td>2</td>\n      <td>3.0</td>\n      <td>3.0</td>\n      <td>5.0</td>\n      <td>4</td>\n      <td>...</td>\n      <td>3.0</td>\n      <td>0</td>\n      <td>0</td>\n      <td>0</td>\n      <td>0</td>\n      <td>0</td>\n      <td>0</td>\n      <td>0</td>\n      <td>0</td>\n      <td>5787594.0</td>\n    </tr>\n    <tr>\n      <th>133</th>\n      <td>133</td>\n      <td>10/12/2006</td>\n      <td>İzmir</td>\n      <td>Big Cities</td>\n      <td>FC</td>\n      <td>4</td>\n      <td>5.0</td>\n      <td>4.0</td>\n      <td>4.0</td>\n      <td>2</td>\n      <td>...</td>\n      <td>3.0</td>\n      <td>0</td>\n      <td>0</td>\n      <td>0</td>\n      <td>0</td>\n      <td>0</td>\n      <td>0</td>\n      <td>0</td>\n      <td>0</td>\n      <td>9262754.0</td>\n    </tr>\n    <tr>\n      <th>134</th>\n      <td>134</td>\n      <td>07/08/2006</td>\n      <td>Kayseri</td>\n      <td>Other</td>\n      <td>FC</td>\n      <td>3</td>\n      <td>4.0</td>\n      <td>4.0</td>\n      <td>4.0</td>\n      <td>2</td>\n      <td>...</td>\n      <td>3.0</td>\n      <td>0</td>\n      <td>0</td>\n      <td>0</td>\n      <td>0</td>\n      <td>0</td>\n      <td>0</td>\n      <td>0</td>\n      <td>0</td>\n      <td>2544857.0</td>\n    </tr>\n    <tr>\n      <th>135</th>\n      <td>135</td>\n      <td>10/29/2010</td>\n      <td>İstanbul</td>\n      <td>Big Cities</td>\n      <td>FC</td>\n      <td>4</td>\n      <td>5.0</td>\n      <td>4.0</td>\n      <td>5.0</td>\n      <td>2</td>\n      <td>...</td>\n      <td>3.0</td>\n      <td>0</td>\n      <td>0</td>\n      <td>0</td>\n      <td>0</td>\n      <td>0</td>\n      <td>0</td>\n      <td>0</td>\n      <td>0</td>\n      <td>7217634.0</td>\n    </tr>\n    <tr>\n      <th>136</th>\n      <td>136</td>\n      <td>09/01/2009</td>\n      <td>İstanbul</td>\n      <td>Big Cities</td>\n      <td>FC</td>\n      <td>4</td>\n      <td>5.0</td>\n      <td>3.0</td>\n      <td>5.0</td>\n      <td>2</td>\n      <td>...</td>\n      <td>3.0</td>\n      <td>0</td>\n      <td>0</td>\n      <td>0</td>\n      <td>0</td>\n      <td>0</td>\n      <td>0</td>\n      <td>0</td>\n      <td>0</td>\n      <td>6363241.0</td>\n    </tr>\n  </tbody>\n</table>\n<p>137 rows × 43 columns</p>\n</div>"
     },
     "execution_count": 23,
     "metadata": {},
     "output_type": "execute_result"
    }
   ],
   "source": [
    "df"
   ]
  },
  {
   "cell_type": "code",
   "execution_count": 24,
   "id": "6beec1ea",
   "metadata": {
    "execution": {
     "iopub.execute_input": "2021-12-15T17:38:35.102336Z",
     "iopub.status.busy": "2021-12-15T17:38:35.101426Z",
     "iopub.status.idle": "2021-12-15T17:38:35.106417Z",
     "shell.execute_reply": "2021-12-15T17:38:35.106980Z",
     "shell.execute_reply.started": "2021-12-15T17:37:07.695252Z"
    },
    "papermill": {
     "duration": 0.025275,
     "end_time": "2021-12-15T17:38:35.107143",
     "exception": false,
     "start_time": "2021-12-15T17:38:35.081868",
     "status": "completed"
    },
    "tags": []
   },
   "outputs": [],
   "source": [
    "target = df['revenue']\n",
    "train = df.drop('revenue', axis=1)"
   ]
  },
  {
   "cell_type": "code",
   "execution_count": 25,
   "id": "a06a3787",
   "metadata": {
    "execution": {
     "iopub.execute_input": "2021-12-15T17:38:35.144685Z",
     "iopub.status.busy": "2021-12-15T17:38:35.143725Z",
     "iopub.status.idle": "2021-12-15T17:38:35.151637Z",
     "shell.execute_reply": "2021-12-15T17:38:35.151146Z",
     "shell.execute_reply.started": "2021-12-15T17:37:07.703088Z"
    },
    "papermill": {
     "duration": 0.027655,
     "end_time": "2021-12-15T17:38:35.151766",
     "exception": false,
     "start_time": "2021-12-15T17:38:35.124111",
     "status": "completed"
    },
    "tags": []
   },
   "outputs": [],
   "source": [
    "features_train, features_valid, target_train, target_valid = train_test_split(train, target,\n",
    "                                                                              test_size=0.2, random_state=12345)"
   ]
  },
  {
   "cell_type": "code",
   "execution_count": 26,
   "id": "9eae7479",
   "metadata": {
    "execution": {
     "iopub.execute_input": "2021-12-15T17:38:35.192632Z",
     "iopub.status.busy": "2021-12-15T17:38:35.191977Z",
     "iopub.status.idle": "2021-12-15T17:38:35.194508Z",
     "shell.execute_reply": "2021-12-15T17:38:35.195061Z",
     "shell.execute_reply.started": "2021-12-15T17:37:07.718410Z"
    },
    "papermill": {
     "duration": 0.026358,
     "end_time": "2021-12-15T17:38:35.195224",
     "exception": false,
     "start_time": "2021-12-15T17:38:35.168866",
     "status": "completed"
    },
    "tags": []
   },
   "outputs": [
    {
     "data": {
      "text/plain": "[1, 2, 3, 4]"
     },
     "execution_count": 26,
     "metadata": {},
     "output_type": "execute_result"
    }
   ],
   "source": [
    "[features_train.columns.get_loc(c) for c in features_train.dtypes[features_train.dtypes == 'object'].index]"
   ]
  },
  {
   "cell_type": "code",
   "execution_count": 27,
   "id": "b1447b1c",
   "metadata": {
    "execution": {
     "iopub.execute_input": "2021-12-15T17:38:35.233819Z",
     "iopub.status.busy": "2021-12-15T17:38:35.233177Z",
     "iopub.status.idle": "2021-12-15T17:38:35.237230Z",
     "shell.execute_reply": "2021-12-15T17:38:35.237772Z",
     "shell.execute_reply.started": "2021-12-15T17:37:07.737035Z"
    },
    "papermill": {
     "duration": 0.025516,
     "end_time": "2021-12-15T17:38:35.237922",
     "exception": false,
     "start_time": "2021-12-15T17:38:35.212406",
     "status": "completed"
    },
    "tags": []
   },
   "outputs": [],
   "source": [
    "cat_features=[features_train.columns.get_loc(c) for c in features_train.dtypes[features_train.dtypes == 'object'].index]"
   ]
  },
  {
   "cell_type": "code",
   "execution_count": 28,
   "id": "3dbf884f",
   "metadata": {
    "execution": {
     "iopub.execute_input": "2021-12-15T17:38:35.275291Z",
     "iopub.status.busy": "2021-12-15T17:38:35.274659Z",
     "iopub.status.idle": "2021-12-15T17:39:32.038983Z",
     "shell.execute_reply": "2021-12-15T17:39:32.039486Z",
     "shell.execute_reply.started": "2021-12-15T17:37:07.749275Z"
    },
    "papermill": {
     "duration": 56.784089,
     "end_time": "2021-12-15T17:39:32.039656",
     "exception": false,
     "start_time": "2021-12-15T17:38:35.255567",
     "status": "completed"
    },
    "tags": []
   },
   "outputs": [
    {
     "data": {
      "text/plain": "MetricVisualizer(layout=Layout(align_self='stretch', height='500px'))",
      "application/vnd.jupyter.widget-view+json": {
       "version_major": 2,
       "version_minor": 0,
       "model_id": "69527f2b03b94d8398964801f7e0cdc0"
      }
     },
     "metadata": {},
     "output_type": "display_data"
    },
    {
     "name": "stdout",
     "output_type": "stream",
     "text": [
      "0:\tlearn: 2063294.3481556\ttest: 3973458.6377266\tbest: 3973458.6377266 (0)\ttotal: 207ms\tremaining: 10m 21s\n",
      "100:\tlearn: 1213391.2110024\ttest: 3816177.5634727\tbest: 3816177.5634727 (100)\ttotal: 10.4s\tremaining: 4m 58s\n",
      "200:\tlearn: 722125.3511886\ttest: 3738780.2001547\tbest: 3738780.2001547 (200)\ttotal: 23.3s\tremaining: 5m 25s\n",
      "300:\tlearn: 396578.3247825\ttest: 3732940.2122088\tbest: 3730171.5159375 (277)\ttotal: 46.9s\tremaining: 7m\n",
      "400:\tlearn: 204934.9266744\ttest: 3729941.6594215\tbest: 3728886.8415482 (372)\ttotal: 1m 16s\tremaining: 8m 15s\n",
      "Stopped by overfitting detector  (100 iterations wait)\n",
      "\n",
      "bestTest = 3728886.842\n",
      "bestIteration = 372\n",
      "\n",
      "Shrink model to first 373 iterations.\n"
     ]
    },
    {
     "data": {
      "text/plain": "<catboost.core.CatBoostRegressor at 0x2b38c451880>"
     },
     "execution_count": 28,
     "metadata": {},
     "output_type": "execute_result"
    }
   ],
   "source": [
    "params = {'iterations': 3000,\n",
    "          'eval_metric':'RMSE',\n",
    "          'depth': 16,\n",
    "          'l2_leaf_reg': 3,\n",
    "          'verbose': 100, \n",
    "          'learning_rate': 0.03,\n",
    "          'od_type':'Iter',\n",
    "          'od_wait':100\n",
    "}\n",
    "model = CatBoostRegressor(**params)\n",
    "model.fit(features_train,target_train,\n",
    "          cat_features=cat_features,\n",
    "          eval_set=(features_valid, target_valid),\n",
    "          plot=True\n",
    "          )"
   ]
  },
  {
   "cell_type": "code",
   "execution_count": 32,
   "outputs": [
    {
     "ename": "TypeError",
     "evalue": "'compress' is an invalid keyword argument for dump()",
     "output_type": "error",
     "traceback": [
      "\u001B[1;31m---------------------------------------------------------------------------\u001B[0m",
      "\u001B[1;31mTypeError\u001B[0m                                 Traceback (most recent call last)",
      "\u001B[1;32m~\\AppData\\Local\\Temp/ipykernel_5788/3397305840.py\u001B[0m in \u001B[0;36m<module>\u001B[1;34m\u001B[0m\n\u001B[0;32m      1\u001B[0m \u001B[1;32mimport\u001B[0m \u001B[0mpickle\u001B[0m\u001B[1;33m\u001B[0m\u001B[1;33m\u001B[0m\u001B[0m\n\u001B[1;32m----> 2\u001B[1;33m \u001B[0mpickle\u001B[0m\u001B[1;33m.\u001B[0m\u001B[0mdump\u001B[0m\u001B[1;33m(\u001B[0m\u001B[0mmodel\u001B[0m\u001B[1;33m,\u001B[0m \u001B[0mopen\u001B[0m\u001B[1;33m(\u001B[0m\u001B[1;34m'../models/catboost.pkt'\u001B[0m\u001B[1;33m,\u001B[0m \u001B[1;34m'wb'\u001B[0m\u001B[1;33m)\u001B[0m\u001B[1;33m,\u001B[0m\u001B[0mcompress\u001B[0m\u001B[1;33m=\u001B[0m\u001B[1;36m9\u001B[0m\u001B[1;33m)\u001B[0m\u001B[1;33m\u001B[0m\u001B[1;33m\u001B[0m\u001B[0m\n\u001B[0m",
      "\u001B[1;31mTypeError\u001B[0m: 'compress' is an invalid keyword argument for dump()"
     ]
    }
   ],
   "source": [
    "import pickle\n",
    "pickle.dump(model, open('../models/catboost.pkt', 'wb'))"
   ],
   "metadata": {
    "collapsed": false,
    "pycharm": {
     "name": "#%%\n"
    }
   }
  },
  {
   "cell_type": "code",
   "execution_count": 33,
   "outputs": [],
   "source": [
    "import joblib"
   ],
   "metadata": {
    "collapsed": false,
    "pycharm": {
     "name": "#%%\n"
    }
   }
  },
  {
   "cell_type": "code",
   "execution_count": 40,
   "outputs": [
    {
     "data": {
      "text/plain": "['../models/catboost1.pkt']"
     },
     "execution_count": 40,
     "metadata": {},
     "output_type": "execute_result"
    }
   ],
   "source": [
    "joblib.dump(model, '../models/catboost1.pkt', compress=1)"
   ],
   "metadata": {
    "collapsed": false,
    "pycharm": {
     "name": "#%%\n"
    }
   }
  },
  {
   "cell_type": "code",
   "execution_count": 13,
   "id": "a24cd21d",
   "metadata": {
    "execution": {
     "iopub.execute_input": "2021-12-15T17:39:32.175143Z",
     "iopub.status.busy": "2021-12-15T17:39:32.148659Z",
     "iopub.status.idle": "2021-12-15T17:39:32.328680Z",
     "shell.execute_reply": "2021-12-15T17:39:32.328069Z",
     "shell.execute_reply.started": "2021-12-15T17:38:05.726730Z"
    },
    "papermill": {
     "duration": 0.268127,
     "end_time": "2021-12-15T17:39:32.328818",
     "exception": false,
     "start_time": "2021-12-15T17:39:32.060691",
     "status": "completed"
    },
    "tags": []
   },
   "outputs": [],
   "source": [
    "predicted_test = model.predict(test)"
   ]
  },
  {
   "cell_type": "code",
   "execution_count": 14,
   "id": "c59f88b1",
   "metadata": {
    "execution": {
     "iopub.execute_input": "2021-12-15T17:39:32.375436Z",
     "iopub.status.busy": "2021-12-15T17:39:32.374779Z",
     "iopub.status.idle": "2021-12-15T17:39:32.378353Z",
     "shell.execute_reply": "2021-12-15T17:39:32.377830Z",
     "shell.execute_reply.started": "2021-12-15T17:38:05.984689Z"
    },
    "papermill": {
     "duration": 0.029101,
     "end_time": "2021-12-15T17:39:32.378492",
     "exception": false,
     "start_time": "2021-12-15T17:39:32.349391",
     "status": "completed"
    },
    "tags": []
   },
   "outputs": [
    {
     "data": {
      "text/plain": [
       "array([3856783.67700023, 3784795.16568823, 4123424.58641649, ...,\n",
       "       4559679.41637212, 4899268.20200228, 4584764.59589675])"
      ]
     },
     "execution_count": 14,
     "metadata": {},
     "output_type": "execute_result"
    }
   ],
   "source": [
    "predicted_test"
   ]
  },
  {
   "cell_type": "code",
   "execution_count": 15,
   "id": "e76f454d",
   "metadata": {
    "execution": {
     "iopub.execute_input": "2021-12-15T17:39:32.425725Z",
     "iopub.status.busy": "2021-12-15T17:39:32.424875Z",
     "iopub.status.idle": "2021-12-15T17:39:32.428654Z",
     "shell.execute_reply": "2021-12-15T17:39:32.429119Z",
     "shell.execute_reply.started": "2021-12-15T17:38:05.992265Z"
    },
    "papermill": {
     "duration": 0.030169,
     "end_time": "2021-12-15T17:39:32.429262",
     "exception": false,
     "start_time": "2021-12-15T17:39:32.399093",
     "status": "completed"
    },
    "tags": []
   },
   "outputs": [],
   "source": [
    "out = test['Id'].to_frame().copy()\n",
    "out['Prediction'] = predicted_test"
   ]
  },
  {
   "cell_type": "code",
   "execution_count": 16,
   "id": "5d26fe68",
   "metadata": {
    "execution": {
     "iopub.execute_input": "2021-12-15T17:39:32.475371Z",
     "iopub.status.busy": "2021-12-15T17:39:32.474716Z",
     "iopub.status.idle": "2021-12-15T17:39:32.829894Z",
     "shell.execute_reply": "2021-12-15T17:39:32.829307Z",
     "shell.execute_reply.started": "2021-12-15T17:38:06.005506Z"
    },
    "papermill": {
     "duration": 0.380171,
     "end_time": "2021-12-15T17:39:32.830028",
     "exception": false,
     "start_time": "2021-12-15T17:39:32.449857",
     "status": "completed"
    },
    "tags": []
   },
   "outputs": [],
   "source": [
    "out.to_csv('my_submission.csv', index=False)"
   ]
  },
  {
   "cell_type": "code",
   "execution_count": null,
   "id": "78effd66",
   "metadata": {
    "papermill": {
     "duration": 0.020044,
     "end_time": "2021-12-15T17:39:32.870612",
     "exception": false,
     "start_time": "2021-12-15T17:39:32.850568",
     "status": "completed"
    },
    "tags": []
   },
   "outputs": [],
   "source": []
  }
 ],
 "metadata": {
  "kernelspec": {
   "display_name": "Python 3",
   "language": "python",
   "name": "python3"
  },
  "language_info": {
   "codemirror_mode": {
    "name": "ipython",
    "version": 3
   },
   "file_extension": ".py",
   "mimetype": "text/x-python",
   "name": "python",
   "nbconvert_exporter": "python",
   "pygments_lexer": "ipython3",
   "version": "3.7.12"
  },
  "papermill": {
   "default_parameters": {},
   "duration": 70.084546,
   "end_time": "2021-12-15T17:39:33.604020",
   "environment_variables": {},
   "exception": null,
   "input_path": "__notebook__.ipynb",
   "output_path": "__notebook__.ipynb",
   "parameters": {},
   "start_time": "2021-12-15T17:38:23.519474",
   "version": "2.3.3"
  },
  "widgets": {
   "application/vnd.jupyter.widget-state+json": {
    "state": {
     "1e8ebbf1a8d44fc6bef1db5eeb4c6e72": {
      "model_module": "catboost-widget",
      "model_module_version": "^1.0.0",
      "model_name": "CatboostWidgetModel",
      "state": {
       "_dom_classes": [],
       "_model_module": "catboost-widget",
       "_model_module_version": "^1.0.0",
       "_model_name": "CatboostWidgetModel",
       "_view_count": null,
       "_view_module": "catboost-widget",
       "_view_module_version": "^1.0.0",
       "_view_name": "CatboostWidgetView",
       "data": {
        "catboost_info": {
         "content": {
          "data": {
           "iterations": [
            {
             "iteration": 0,
             "learn": [
              2063294.348
             ],
             "passed_time": 0.07590466856,
             "remaining_time": 227.638101,
             "test": [
              3973458.638
             ]
            },
            {
             "iteration": 1,
             "learn": [
              2051731.248
             ],
             "passed_time": 0.09468496021,
             "remaining_time": 141.9327553,
             "test": [
              3972766.198
             ]
            },
            {
             "iteration": 2,
             "learn": [
              2039450.478
             ],
             "passed_time": 0.09736480403,
             "remaining_time": 97.26743923,
             "test": [
              3970210.89
             ]
            },
            {
             "iteration": 3,
             "learn": [
              2023442.188
             ],
             "passed_time": 0.1372155461,
             "remaining_time": 102.7744441,
             "test": [
              3967526.59
             ]
            },
            {
             "iteration": 4,
             "learn": [
              2007118.92
             ],
             "passed_time": 0.1431735938,
             "remaining_time": 85.76098271,
             "test": [
              3965052.715
             ]
            },
            {
             "iteration": 5,
             "learn": [
              1992182.331
             ],
             "passed_time": 0.1652474204,
             "remaining_time": 82.45846276,
             "test": [
              3959112.826
             ]
            },
            {
             "iteration": 6,
             "learn": [
              1981226.536
             ],
             "passed_time": 0.2079571594,
             "remaining_time": 88.91653972,
             "test": [
              3961940.015
             ]
            },
            {
             "iteration": 7,
             "learn": [
              1973269.686
             ],
             "passed_time": 0.2145978833,
             "remaining_time": 80.25960834,
             "test": [
              3964308.054
             ]
            },
            {
             "iteration": 8,
             "learn": [
              1958812.887
             ],
             "passed_time": 0.252709959,
             "remaining_time": 83.98394306,
             "test": [
              3961992.699
             ]
            },
            {
             "iteration": 9,
             "learn": [
              1943727.625
             ],
             "passed_time": 0.2897518183,
             "remaining_time": 86.63579366,
             "test": [
              3961470.935
             ]
            },
            {
             "iteration": 10,
             "learn": [
              1939318.713
             ],
             "passed_time": 0.2909404372,
             "remaining_time": 79.05645151,
             "test": [
              3961952.965
             ]
            },
            {
             "iteration": 11,
             "learn": [
              1934558.655
             ],
             "passed_time": 0.2914805624,
             "remaining_time": 72.57866004,
             "test": [
              3962029.219
             ]
            },
            {
             "iteration": 12,
             "learn": [
              1926890.521
             ],
             "passed_time": 0.3005084885,
             "remaining_time": 69.04760425,
             "test": [
              3961209.76
             ]
            },
            {
             "iteration": 13,
             "learn": [
              1914922.377
             ],
             "passed_time": 0.3103942492,
             "remaining_time": 66.20265915,
             "test": [
              3959729.55
             ]
            },
            {
             "iteration": 14,
             "learn": [
              1905572.963
             ],
             "passed_time": 0.311465744,
             "remaining_time": 61.98168305,
             "test": [
              3955595.651
             ]
            },
            {
             "iteration": 15,
             "learn": [
              1894194.2
             ],
             "passed_time": 0.3293840409,
             "remaining_time": 61.43012363,
             "test": [
              3953552.233
             ]
            },
            {
             "iteration": 16,
             "learn": [
              1883051.058
             ],
             "passed_time": 0.3355797501,
             "remaining_time": 58.88437615,
             "test": [
              3953071.997
             ]
            },
            {
             "iteration": 17,
             "learn": [
              1865903.063
             ],
             "passed_time": 0.406138722,
             "remaining_time": 67.28364827,
             "test": [
              3948889.607
             ]
            },
            {
             "iteration": 18,
             "learn": [
              1855816.274
             ],
             "passed_time": 0.4469288951,
             "remaining_time": 70.12079139,
             "test": [
              3946142.326
             ]
            },
            {
             "iteration": 19,
             "learn": [
              1840624.656
             ],
             "passed_time": 0.5167328769,
             "remaining_time": 76.99319866,
             "test": [
              3943783.977
             ]
            },
            {
             "iteration": 20,
             "learn": [
              1830342.317
             ],
             "passed_time": 0.5358949069,
             "remaining_time": 76.02052037,
             "test": [
              3939544.186
             ]
            },
            {
             "iteration": 21,
             "learn": [
              1823661.599
             ],
             "passed_time": 0.5379089265,
             "remaining_time": 72.81330833,
             "test": [
              3936819.951
             ]
            },
            {
             "iteration": 22,
             "learn": [
              1819311.303
             ],
             "passed_time": 0.5387288643,
             "remaining_time": 69.73025344,
             "test": [
              3936935.113
             ]
            },
            {
             "iteration": 23,
             "learn": [
              1805568.279
             ],
             "passed_time": 0.5568661744,
             "remaining_time": 69.05140562,
             "test": [
              3932467.416
             ]
            },
            {
             "iteration": 24,
             "learn": [
              1794191.698
             ],
             "passed_time": 0.5627534019,
             "remaining_time": 66.96765482,
             "test": [
              3927798.171
             ]
            },
            {
             "iteration": 25,
             "learn": [
              1789792.443
             ],
             "passed_time": 0.563378706,
             "remaining_time": 64.44185661,
             "test": [
              3928266.363
             ]
            },
            {
             "iteration": 26,
             "learn": [
              1783078.63
             ],
             "passed_time": 0.8976842897,
             "remaining_time": 98.84501457,
             "test": [
              3927230.042
             ]
            },
            {
             "iteration": 27,
             "learn": [
              1776122.44
             ],
             "passed_time": 0.9006781973,
             "remaining_time": 95.60055722,
             "test": [
              3923602.03
             ]
            },
            {
             "iteration": 28,
             "learn": [
              1772288.294
             ],
             "passed_time": 0.9017669454,
             "remaining_time": 92.38446878,
             "test": [
              3925320.177
             ]
            },
            {
             "iteration": 29,
             "learn": [
              1759271.476
             ],
             "passed_time": 1.044830307,
             "remaining_time": 103.4382004,
             "test": [
              3923135.787
             ]
            },
            {
             "iteration": 30,
             "learn": [
              1747108.606
             ],
             "passed_time": 1.117024513,
             "remaining_time": 106.9821219,
             "test": [
              3918824.991
             ]
            },
            {
             "iteration": 31,
             "learn": [
              1733948.207
             ],
             "passed_time": 1.183394174,
             "remaining_time": 109.7598097,
             "test": [
              3918858.188
             ]
            },
            {
             "iteration": 32,
             "learn": [
              1729849.652
             ],
             "passed_time": 1.184679829,
             "remaining_time": 106.5134865,
             "test": [
              3919095.889
             ]
            },
            {
             "iteration": 33,
             "learn": [
              1722525.479
             ],
             "passed_time": 1.186515525,
             "remaining_time": 103.5060308,
             "test": [
              3915412.2
             ]
            },
            {
             "iteration": 34,
             "learn": [
              1712322.917
             ],
             "passed_time": 1.204331765,
             "remaining_time": 102.0241052,
             "test": [
              3912196.136
             ]
            },
            {
             "iteration": 35,
             "learn": [
              1707215.023
             ],
             "passed_time": 1.21020943,
             "remaining_time": 99.64057639,
             "test": [
              3912229.656
             ]
            },
            {
             "iteration": 36,
             "learn": [
              1700570.707
             ],
             "passed_time": 1.215393176,
             "remaining_time": 97.32999947,
             "test": [
              3912322.601
             ]
            },
            {
             "iteration": 37,
             "learn": [
              1695340.785
             ],
             "passed_time": 1.217916237,
             "remaining_time": 94.93336567,
             "test": [
              3910273.059
             ]
            },
            {
             "iteration": 38,
             "learn": [
              1682087.475
             ],
             "passed_time": 1.515413347,
             "remaining_time": 115.0548441,
             "test": [
              3906387.469
             ]
            },
            {
             "iteration": 39,
             "learn": [
              1670638.965
             ],
             "passed_time": 1.583808406,
             "remaining_time": 117.2018221,
             "test": [
              3903573.578
             ]
            },
            {
             "iteration": 40,
             "learn": [
              1657274.701
             ],
             "passed_time": 1.909277219,
             "remaining_time": 137.7939339,
             "test": [
              3901119.499
             ]
            },
            {
             "iteration": 41,
             "learn": [
              1649889.211
             ],
             "passed_time": 1.931520567,
             "remaining_time": 136.0342342,
             "test": [
              3901783.844
             ]
            },
            {
             "iteration": 42,
             "learn": [
              1644032.866
             ],
             "passed_time": 1.933407648,
             "remaining_time": 132.955498,
             "test": [
              3900866.687
             ]
            },
            {
             "iteration": 43,
             "learn": [
              1640759.523
             ],
             "passed_time": 1.934776478,
             "remaining_time": 129.9818016,
             "test": [
              3897388.948
             ]
            },
            {
             "iteration": 44,
             "learn": [
              1632441.271
             ],
             "passed_time": 1.940389791,
             "remaining_time": 127.4189296,
             "test": [
              3897175.787
             ]
            },
            {
             "iteration": 45,
             "learn": [
              1621682.489
             ],
             "passed_time": 1.957595868,
             "remaining_time": 125.7116999,
             "test": [
              3899005.776
             ]
            },
            {
             "iteration": 46,
             "learn": [
              1612030.813
             ],
             "passed_time": 1.977064975,
             "remaining_time": 124.2185717,
             "test": [
              3899563.414
             ]
            },
            {
             "iteration": 47,
             "learn": [
              1600611.956
             ],
             "passed_time": 2.12700173,
             "remaining_time": 130.8106064,
             "test": [
              3899157.279
             ]
            },
            {
             "iteration": 48,
             "learn": [
              1593825.17
             ],
             "passed_time": 2.133328151,
             "remaining_time": 128.4785994,
             "test": [
              3903943.219
             ]
            },
            {
             "iteration": 49,
             "learn": [
              1583962.29
             ],
             "passed_time": 2.456918162,
             "remaining_time": 144.9581715,
             "test": [
              3904109.234
             ]
            },
            {
             "iteration": 50,
             "learn": [
              1578851.156
             ],
             "passed_time": 2.457672639,
             "remaining_time": 142.1113061,
             "test": [
              3901092.367
             ]
            },
            {
             "iteration": 51,
             "learn": [
              1573055.616
             ],
             "passed_time": 2.459572177,
             "remaining_time": 139.4388226,
             "test": [
              3897104.262
             ]
            },
            {
             "iteration": 52,
             "learn": [
              1566281.686
             ],
             "passed_time": 2.469526181,
             "remaining_time": 137.3149747,
             "test": [
              3894133.977
             ]
            },
            {
             "iteration": 53,
             "learn": [
              1555155.138
             ],
             "passed_time": 2.541389221,
             "remaining_time": 138.6469008,
             "test": [
              3893650.264
             ]
            },
            {
             "iteration": 54,
             "learn": [
              1547486.272
             ],
             "passed_time": 2.690341061,
             "remaining_time": 144.055535,
             "test": [
              3892421.699
             ]
            },
            {
             "iteration": 55,
             "learn": [
              1540807.641
             ],
             "passed_time": 2.69310286,
             "remaining_time": 141.5802647,
             "test": [
              3889595.715
             ]
            },
            {
             "iteration": 56,
             "learn": [
              1537425.008
             ],
             "passed_time": 2.693709137,
             "remaining_time": 139.080456,
             "test": [
              3890326.624
             ]
            },
            {
             "iteration": 57,
             "learn": [
              1532349.743
             ],
             "passed_time": 2.69704861,
             "remaining_time": 136.8054657,
             "test": [
              3888896.505
             ]
            },
            {
             "iteration": 58,
             "learn": [
              1526802.154
             ],
             "passed_time": 2.702986347,
             "remaining_time": 134.7369974,
             "test": [
              3886405.613
             ]
            },
            {
             "iteration": 59,
             "learn": [
              1519547.573
             ],
             "passed_time": 2.71399381,
             "remaining_time": 132.9856967,
             "test": [
              3885201.595
             ]
            },
            {
             "iteration": 60,
             "learn": [
              1510006.559
             ],
             "passed_time": 2.748910707,
             "remaining_time": 132.4434191,
             "test": [
              3883267.53
             ]
            },
            {
             "iteration": 61,
             "learn": [
              1499327.958
             ],
             "passed_time": 2.759302256,
             "remaining_time": 130.755323,
             "test": [
              3878535.75
             ]
            },
            {
             "iteration": 62,
             "learn": [
              1490525.257
             ],
             "passed_time": 2.77642698,
             "remaining_time": 129.4343816,
             "test": [
              3877424.548
             ]
            },
            {
             "iteration": 63,
             "learn": [
              1478837.871
             ],
             "passed_time": 3.093165494,
             "remaining_time": 141.898967,
             "test": [
              3877224.966
             ]
            },
            {
             "iteration": 64,
             "learn": [
              1471615.685
             ],
             "passed_time": 3.103524488,
             "remaining_time": 140.1360673,
             "test": [
              3877944.278
             ]
            },
            {
             "iteration": 65,
             "learn": [
              1462531.536
             ],
             "passed_time": 3.137961477,
             "remaining_time": 139.4966511,
             "test": [
              3877860.827
             ]
            },
            {
             "iteration": 66,
             "learn": [
              1454341.319
             ],
             "passed_time": 3.141552839,
             "remaining_time": 137.5249922,
             "test": [
              3875928.424
             ]
            },
            {
             "iteration": 67,
             "learn": [
              1444251.542
             ],
             "passed_time": 3.444991916,
             "remaining_time": 148.5399456,
             "test": [
              3875064.04
             ]
            },
            {
             "iteration": 68,
             "learn": [
              1440650.314
             ],
             "passed_time": 3.446259219,
             "remaining_time": 146.3910981,
             "test": [
              3874878.469
             ]
            },
            {
             "iteration": 69,
             "learn": [
              1430884.756
             ],
             "passed_time": 3.524358052,
             "remaining_time": 147.5195585,
             "test": [
              3872992.821
             ]
            },
            {
             "iteration": 70,
             "learn": [
              1421932.555
             ],
             "passed_time": 3.561520332,
             "remaining_time": 146.9252543,
             "test": [
              3868949.579
             ]
            },
            {
             "iteration": 71,
             "learn": [
              1409053.142
             ],
             "passed_time": 3.567056989,
             "remaining_time": 145.0603176,
             "test": [
              3865575.203
             ]
            },
            {
             "iteration": 72,
             "learn": [
              1398359.864
             ],
             "passed_time": 3.602381324,
             "remaining_time": 144.4406868,
             "test": [
              3864785.322
             ]
            },
            {
             "iteration": 73,
             "learn": [
              1393329.666
             ],
             "passed_time": 3.607377728,
             "remaining_time": 142.6376653,
             "test": [
              3861508.729
             ]
            },
            {
             "iteration": 74,
             "learn": [
              1382834.459
             ],
             "passed_time": 3.625200063,
             "remaining_time": 141.3828024,
             "test": [
              3859892.037
             ]
            },
            {
             "iteration": 75,
             "learn": [
              1374680.911
             ],
             "passed_time": 3.694104254,
             "remaining_time": 142.1258005,
             "test": [
              3856967.895
             ]
            },
            {
             "iteration": 76,
             "learn": [
              1368464.167
             ],
             "passed_time": 3.69758759,
             "remaining_time": 140.3642665,
             "test": [
              3855058.295
             ]
            },
            {
             "iteration": 77,
             "learn": [
              1360763.331
             ],
             "passed_time": 3.704013787,
             "remaining_time": 138.7580549,
             "test": [
              3854929.527
             ]
            },
            {
             "iteration": 78,
             "learn": [
              1353640.343
             ],
             "passed_time": 3.820019201,
             "remaining_time": 141.2440011,
             "test": [
              3853254.205
             ]
            },
            {
             "iteration": 79,
             "learn": [
              1344170.438
             ],
             "passed_time": 3.960609078,
             "remaining_time": 144.5622313,
             "test": [
              3853051.917
             ]
            },
            {
             "iteration": 80,
             "learn": [
              1338874.251
             ],
             "passed_time": 3.964306668,
             "remaining_time": 142.8618662,
             "test": [
              3850639.764
             ]
            },
            {
             "iteration": 81,
             "learn": [
              1336220.82
             ],
             "passed_time": 3.964906489,
             "remaining_time": 141.092648,
             "test": [
              3850315.999
             ]
            },
            {
             "iteration": 82,
             "learn": [
              1326536.704
             ],
             "passed_time": 3.974463606,
             "remaining_time": 139.6808475,
             "test": [
              3849121.982
             ]
            },
            {
             "iteration": 83,
             "learn": [
              1323649.595
             ],
             "passed_time": 3.975256418,
             "remaining_time": 137.9981871,
             "test": [
              3848010.911
             ]
            },
            {
             "iteration": 84,
             "learn": [
              1314583.684
             ],
             "passed_time": 4.28655742,
             "remaining_time": 147.0037045,
             "test": [
              3844661.662
             ]
            },
            {
             "iteration": 85,
             "learn": [
              1310154.852
             ],
             "passed_time": 4.289430188,
             "remaining_time": 145.3418554,
             "test": [
              3845885.452
             ]
            },
            {
             "iteration": 86,
             "learn": [
              1299596.606
             ],
             "passed_time": 4.321520224,
             "remaining_time": 144.6964185,
             "test": [
              3844066.01
             ]
            },
            {
             "iteration": 87,
             "learn": [
              1296879.416
             ],
             "passed_time": 4.332474136,
             "remaining_time": 143.3655078,
             "test": [
              3844172.741
             ]
            },
            {
             "iteration": 88,
             "learn": [
              1291711.011
             ],
             "passed_time": 4.33497628,
             "remaining_time": 141.7878197,
             "test": [
              3842357.723
             ]
            },
            {
             "iteration": 89,
             "learn": [
              1282764.969
             ],
             "passed_time": 4.344697396,
             "remaining_time": 140.4785491,
             "test": [
              3840171.929
             ]
            },
            {
             "iteration": 90,
             "learn": [
              1277934.422
             ],
             "passed_time": 4.377591412,
             "remaining_time": 139.938609,
             "test": [
              3837485.256
             ]
            },
            {
             "iteration": 91,
             "learn": [
              1271512.521
             ],
             "passed_time": 4.396147715,
             "remaining_time": 138.9564952,
             "test": [
              3832407.567
             ]
            },
            {
             "iteration": 92,
             "learn": [
              1260654.487
             ],
             "passed_time": 4.722723436,
             "remaining_time": 147.6231939,
             "test": [
              3830969.071
             ]
            },
            {
             "iteration": 93,
             "learn": [
              1257927.778
             ],
             "passed_time": 4.733001555,
             "remaining_time": 146.3202396,
             "test": [
              3830960.109
             ]
            },
            {
             "iteration": 94,
             "learn": [
              1248647.923
             ],
             "passed_time": 5.029132723,
             "remaining_time": 153.7855849,
             "test": [
              3828590.884
             ]
            },
            {
             "iteration": 95,
             "learn": [
              1243416.36
             ],
             "passed_time": 5.032838789,
             "remaining_time": 152.2433734,
             "test": [
              3826579.298
             ]
            },
            {
             "iteration": 96,
             "learn": [
              1241092.519
             ],
             "passed_time": 5.033666513,
             "remaining_time": 150.6467411,
             "test": [
              3826276.892
             ]
            },
            {
             "iteration": 97,
             "learn": [
              1235856.009
             ],
             "passed_time": 5.035518195,
             "remaining_time": 149.112998,
             "test": [
              3823289.869
             ]
            },
            {
             "iteration": 98,
             "learn": [
              1226690.063
             ],
             "passed_time": 5.070431251,
             "remaining_time": 148.5790006,
             "test": [
              3820063.926
             ]
            },
            {
             "iteration": 99,
             "learn": [
              1218065.029
             ],
             "passed_time": 5.074646567,
             "remaining_time": 147.1647505,
             "test": [
              3818080.261
             ]
            },
            {
             "iteration": 100,
             "learn": [
              1213391.211
             ],
             "passed_time": 5.080625168,
             "remaining_time": 145.8290333,
             "test": [
              3816177.563
             ]
            },
            {
             "iteration": 101,
             "learn": [
              1209057.583
             ],
             "passed_time": 5.116575949,
             "remaining_time": 145.370952,
             "test": [
              3814076.002
             ]
            },
            {
             "iteration": 102,
             "learn": [
              1203723.074
             ],
             "passed_time": 5.122536541,
             "remaining_time": 144.0775569,
             "test": [
              3814028.907
             ]
            },
            {
             "iteration": 103,
             "learn": [
              1192247.833
             ],
             "passed_time": 5.15319069,
             "remaining_time": 143.4965407,
             "test": [
              3811466.18
             ]
            },
            {
             "iteration": 104,
             "learn": [
              1188999.373
             ],
             "passed_time": 5.15914145,
             "remaining_time": 142.2449,
             "test": [
              3810159.247
             ]
            },
            {
             "iteration": 105,
             "learn": [
              1181159.226
             ],
             "passed_time": 5.188371226,
             "remaining_time": 141.6523239,
             "test": [
              3807971.511
             ]
            },
            {
             "iteration": 106,
             "learn": [
              1174636.106
             ],
             "passed_time": 5.485576279,
             "remaining_time": 148.3156278,
             "test": [
              3806030.692
             ]
            },
            {
             "iteration": 107,
             "learn": [
              1166544.192
             ],
             "passed_time": 5.795715213,
             "remaining_time": 155.196374,
             "test": [
              3804418.743
             ]
            },
            {
             "iteration": 108,
             "learn": [
              1164722.045
             ],
             "passed_time": 5.797726792,
             "remaining_time": 153.7727354,
             "test": [
              3803552.493
             ]
            },
            {
             "iteration": 109,
             "learn": [
              1156232.537
             ],
             "passed_time": 5.949065201,
             "remaining_time": 156.2981676,
             "test": [
              3800208.599
             ]
            },
            {
             "iteration": 110,
             "learn": [
              1148548.306
             ],
             "passed_time": 6.02526266,
             "remaining_time": 156.8196741,
             "test": [
              3796227.357
             ]
            },
            {
             "iteration": 111,
             "learn": [
              1146545.455
             ],
             "passed_time": 6.026076359,
             "remaining_time": 155.3866833,
             "test": [
              3796215.855
             ]
            },
            {
             "iteration": 112,
             "learn": [
              1138114.528
             ],
             "passed_time": 6.104359228,
             "remaining_time": 155.9582751,
             "test": [
              3794008.99
             ]
            },
            {
             "iteration": 113,
             "learn": [
              1135970.476
             ],
             "passed_time": 6.105051685,
             "remaining_time": 154.5542032,
             "test": [
              3793754.016
             ]
            },
            {
             "iteration": 114,
             "learn": [
              1134433.6
             ],
             "passed_time": 6.105704308,
             "remaining_time": 153.1735385,
             "test": [
              3791659.37
             ]
            },
            {
             "iteration": 115,
             "learn": [
              1131311.499
             ],
             "passed_time": 6.108148079,
             "remaining_time": 151.8611988,
             "test": [
              3791899.958
             ]
            },
            {
             "iteration": 116,
             "learn": [
              1123491.475
             ],
             "passed_time": 6.223934645,
             "remaining_time": 153.3641332,
             "test": [
              3789382.671
             ]
            },
            {
             "iteration": 117,
             "learn": [
              1116181.78
             ],
             "passed_time": 6.229977383,
             "remaining_time": 152.1592781,
             "test": [
              3790731.677
             ]
            },
            {
             "iteration": 118,
             "learn": [
              1108891.14
             ],
             "passed_time": 6.264390315,
             "remaining_time": 151.6614159,
             "test": [
              3789560.602
             ]
            },
            {
             "iteration": 119,
             "learn": [
              1100615.409
             ],
             "passed_time": 6.571373549,
             "remaining_time": 157.7129652,
             "test": [
              3787055.773
             ]
            },
            {
             "iteration": 120,
             "learn": [
              1095360.959
             ],
             "passed_time": 6.582197515,
             "remaining_time": 156.6127822,
             "test": [
              3787415.537
             ]
            },
            {
             "iteration": 121,
             "learn": [
              1089044.209
             ],
             "passed_time": 6.601880307,
             "remaining_time": 155.7394387,
             "test": [
              3785041.372
             ]
            },
            {
             "iteration": 122,
             "learn": [
              1081181.014
             ],
             "passed_time": 6.636080809,
             "remaining_time": 155.2195487,
             "test": [
              3782332.65
             ]
            },
            {
             "iteration": 123,
             "learn": [
              1076286.93
             ],
             "passed_time": 6.646334515,
             "remaining_time": 154.1520812,
             "test": [
              3779461.054
             ]
            },
            {
             "iteration": 124,
             "learn": [
              1074022.384
             ],
             "passed_time": 6.651841564,
             "remaining_time": 152.992356,
             "test": [
              3778831.158
             ]
            },
            {
             "iteration": 125,
             "learn": [
              1071673.178
             ],
             "passed_time": 6.655336553,
             "remaining_time": 151.8050576,
             "test": [
              3779076.076
             ]
            },
            {
             "iteration": 126,
             "learn": [
              1069984.831
             ],
             "passed_time": 6.655932262,
             "remaining_time": 150.5708141,
             "test": [
              3779018.708
             ]
            },
            {
             "iteration": 127,
             "learn": [
              1064259.745
             ],
             "passed_time": 7.023733376,
             "remaining_time": 157.5950176,
             "test": [
              3778709.687
             ]
            },
            {
             "iteration": 128,
             "learn": [
              1055401.773
             ],
             "passed_time": 7.035516345,
             "remaining_time": 156.5811428,
             "test": [
              3773508.171
             ]
            },
            {
             "iteration": 129,
             "learn": [
              1047875.153
             ],
             "passed_time": 7.34515773,
             "remaining_time": 162.1584822,
             "test": [
              3773570.815
             ]
            },
            {
             "iteration": 130,
             "learn": [
              1046149.982
             ],
             "passed_time": 7.345993724,
             "remaining_time": 160.8828702,
             "test": [
              3773359.479
             ]
            },
            {
             "iteration": 131,
             "learn": [
              1040813.813
             ],
             "passed_time": 7.351739031,
             "remaining_time": 159.733239,
             "test": [
              3773367.182
             ]
            },
            {
             "iteration": 132,
             "learn": [
              1038020.073
             ],
             "passed_time": 7.35315623,
             "remaining_time": 158.5075106,
             "test": [
              3773336.676
             ]
            },
            {
             "iteration": 133,
             "learn": [
              1034852.637
             ],
             "passed_time": 7.355692919,
             "remaining_time": 157.3239993,
             "test": [
              3770410.012
             ]
            },
            {
             "iteration": 134,
             "learn": [
              1030296.883
             ],
             "passed_time": 7.428431114,
             "remaining_time": 157.6478159,
             "test": [
              3770812.307
             ]
            },
            {
             "iteration": 135,
             "learn": [
              1023526.383
             ],
             "passed_time": 7.46310091,
             "remaining_time": 157.164125,
             "test": [
              3769037.16
             ]
            },
            {
             "iteration": 136,
             "learn": [
              1016454.915
             ],
             "passed_time": 7.481814103,
             "remaining_time": 156.3535312,
             "test": [
              3769750.324
             ]
            },
            {
             "iteration": 137,
             "learn": [
              1014653.544
             ],
             "passed_time": 7.483273599,
             "remaining_time": 155.1965873,
             "test": [
              3769473.894
             ]
            },
            {
             "iteration": 138,
             "learn": [
              1005995.807
             ],
             "passed_time": 7.520516764,
             "remaining_time": 154.7927947,
             "test": [
              3769123.406
             ]
            },
            {
             "iteration": 139,
             "learn": [
              999959.9017
             ],
             "passed_time": 7.553777465,
             "remaining_time": 154.3128825,
             "test": [
              3766109.248
             ]
            },
            {
             "iteration": 140,
             "learn": [
              998036.3134
             ],
             "passed_time": 7.554941617,
             "remaining_time": 153.188497,
             "test": [
              3765557.769
             ]
            },
            {
             "iteration": 141,
             "learn": [
              993863.0954
             ],
             "passed_time": 7.560640463,
             "remaining_time": 152.1712003,
             "test": [
              3765016.459
             ]
            },
            {
             "iteration": 142,
             "learn": [
              987198.9992
             ],
             "passed_time": 7.600062273,
             "remaining_time": 151.8418036,
             "test": [
              3766608.221
             ]
            },
            {
             "iteration": 143,
             "learn": [
              981848.9775
             ],
             "passed_time": 7.634269194,
             "remaining_time": 151.4130057,
             "test": [
              3764939.28
             ]
            },
            {
             "iteration": 144,
             "learn": [
              977013.426
             ],
             "passed_time": 7.677073244,
             "remaining_time": 151.1589249,
             "test": [
              3764856.674
             ]
            },
            {
             "iteration": 145,
             "learn": [
              972958.0544
             ],
             "passed_time": 7.683573292,
             "remaining_time": 150.1980697,
             "test": [
              3764781.382
             ]
            },
            {
             "iteration": 146,
             "learn": [
              965707.1312
             ],
             "passed_time": 7.752766901,
             "remaining_time": 150.4669658,
             "test": [
              3764983.176
             ]
            },
            {
             "iteration": 147,
             "learn": [
              959035.7466
             ],
             "passed_time": 7.887189702,
             "remaining_time": 151.9882772,
             "test": [
              3764682.929
             ]
            },
            {
             "iteration": 148,
             "learn": [
              953696.145
             ],
             "passed_time": 7.924836811,
             "remaining_time": 151.6356359,
             "test": [
              3762993.645
             ]
            },
            {
             "iteration": 149,
             "learn": [
              946530.0256
             ],
             "passed_time": 8.069274208,
             "remaining_time": 153.3162099,
             "test": [
              3762076.428
             ]
            },
            {
             "iteration": 150,
             "learn": [
              945688.5095
             ],
             "passed_time": 8.070102366,
             "remaining_time": 152.2630572,
             "test": [
              3761341.871
             ]
            },
            {
             "iteration": 151,
             "learn": [
              938376.0028
             ],
             "passed_time": 8.08747443,
             "remaining_time": 151.5337314,
             "test": [
              3758998.177
             ]
            },
            {
             "iteration": 152,
             "learn": [
              931558.4762
             ],
             "passed_time": 8.122946575,
             "remaining_time": 151.1505157,
             "test": [
              3758584.266
             ]
            },
            {
             "iteration": 153,
             "learn": [
              925668.2107
             ],
             "passed_time": 8.431943405,
             "remaining_time": 155.8266943,
             "test": [
              3756771.327
             ]
            },
            {
             "iteration": 154,
             "learn": [
              918899.94
             ],
             "passed_time": 8.506409208,
             "remaining_time": 156.133769,
             "test": [
              3755051.111
             ]
            },
            {
             "iteration": 155,
             "learn": [
              914829.6874
             ],
             "passed_time": 8.524516552,
             "remaining_time": 155.4084941,
             "test": [
              3755434.388
             ]
            },
            {
             "iteration": 156,
             "learn": [
              907832.4873
             ],
             "passed_time": 8.561721421,
             "remaining_time": 155.0380509,
             "test": [
              3754146.86
             ]
            },
            {
             "iteration": 157,
             "learn": [
              902248.2374
             ],
             "passed_time": 8.580080535,
             "remaining_time": 154.332841,
             "test": [
              3754157.423
             ]
            },
            {
             "iteration": 158,
             "learn": [
              896398.9408
             ],
             "passed_time": 8.590905225,
             "remaining_time": 153.5016462,
             "test": [
              3754153.663
             ]
            },
            {
             "iteration": 159,
             "learn": [
              895025.3951
             ],
             "passed_time": 8.591774603,
             "remaining_time": 152.5039992,
             "test": [
              3753730.908
             ]
            },
            {
             "iteration": 160,
             "learn": [
              891595.7852
             ],
             "passed_time": 8.601707837,
             "remaining_time": 151.6785624,
             "test": [
              3753478.241
             ]
            },
            {
             "iteration": 161,
             "learn": [
              888930.9847
             ],
             "passed_time": 8.60528357,
             "remaining_time": 150.7518196,
             "test": [
              3754077.93
             ]
            },
            {
             "iteration": 162,
             "learn": [
              882197.4757
             ],
             "passed_time": 8.615765576,
             "remaining_time": 149.956607,
             "test": [
              3751943.204
             ]
            },
            {
             "iteration": 163,
             "learn": [
              879150.187
             ],
             "passed_time": 8.690023377,
             "remaining_time": 150.2738189,
             "test": [
              3752493.188
             ]
            },
            {
             "iteration": 164,
             "learn": [
              875664.9159
             ],
             "passed_time": 8.691948308,
             "remaining_time": 149.3434755,
             "test": [
              3751249.486
             ]
            },
            {
             "iteration": 165,
             "learn": [
              873549.5503
             ],
             "passed_time": 8.69554801,
             "remaining_time": 148.45291,
             "test": [
              3751032.784
             ]
            },
            {
             "iteration": 166,
             "learn": [
              867856.1734
             ],
             "passed_time": 8.714838794,
             "remaining_time": 147.8391515,
             "test": [
              3752437.666
             ]
            },
            {
             "iteration": 167,
             "learn": [
              861414.4311
             ],
             "passed_time": 9.080512974,
             "remaining_time": 153.0715044,
             "test": [
              3752522.504
             ]
            },
            {
             "iteration": 168,
             "learn": [
              855559.709
             ],
             "passed_time": 9.099985843,
             "remaining_time": 152.4382244,
             "test": [
              3750377.129
             ]
            },
            {
             "iteration": 169,
             "learn": [
              849725.3643
             ],
             "passed_time": 9.132283007,
             "remaining_time": 152.0256524,
             "test": [
              3749955.624
             ]
            },
            {
             "iteration": 170,
             "learn": [
              848432.1713
             ],
             "passed_time": 9.133460189,
             "remaining_time": 151.1026835,
             "test": [
              3750069.229
             ]
            },
            {
             "iteration": 171,
             "learn": [
              842528.899
             ],
             "passed_time": 9.15206562,
             "remaining_time": 150.4769859,
             "test": [
              3749363.357
             ]
            },
            {
             "iteration": 172,
             "learn": [
              836136.8778
             ],
             "passed_time": 9.185215704,
             "remaining_time": 150.0959815,
             "test": [
              3747446.239
             ]
            },
            {
             "iteration": 173,
             "learn": [
              833550.8142
             ],
             "passed_time": 9.195100239,
             "remaining_time": 149.3411108,
             "test": [
              3746266.251
             ]
            },
            {
             "iteration": 174,
             "learn": [
              827664.795
             ],
             "passed_time": 9.358732668,
             "remaining_time": 151.0766845,
             "test": [
              3746086.073
             ]
            },
            {
             "iteration": 175,
             "learn": [
              826480.8545
             ],
             "passed_time": 9.360721982,
             "remaining_time": 150.1970391,
             "test": [
              3746123.22
             ]
            },
            {
             "iteration": 176,
             "learn": [
              824022.8192
             ],
             "passed_time": 9.369710381,
             "remaining_time": 149.4389401,
             "test": [
              3745276.464
             ]
            },
            {
             "iteration": 177,
             "learn": [
              818996.9542
             ],
             "passed_time": 9.439409101,
             "remaining_time": 149.6517555,
             "test": [
              3745246.309
             ]
            },
            {
             "iteration": 178,
             "learn": [
              813548.6426
             ],
             "passed_time": 9.755656898,
             "remaining_time": 153.7469727,
             "test": [
              3745143.882
             ]
            },
            {
             "iteration": 179,
             "learn": [
              807917.3556
             ],
             "passed_time": 9.828771621,
             "remaining_time": 153.9840887,
             "test": [
              3743747.658
             ]
            },
            {
             "iteration": 180,
             "learn": [
              802532.7769
             ],
             "passed_time": 9.90251299,
             "remaining_time": 154.2275366,
             "test": [
              3742400.588
             ]
            },
            {
             "iteration": 181,
             "learn": [
              798795.2212
             ],
             "passed_time": 9.937316947,
             "remaining_time": 153.8646108,
             "test": [
              3742660.332
             ]
            },
            {
             "iteration": 182,
             "learn": [
              792871.4421
             ],
             "passed_time": 9.948745488,
             "remaining_time": 153.1454428,
             "test": [
              3742679.989
             ]
            },
            {
             "iteration": 183,
             "learn": [
              790260.274
             ],
             "passed_time": 9.966843961,
             "remaining_time": 152.5360467,
             "test": [
              3744572.256
             ]
            },
            {
             "iteration": 184,
             "learn": [
              784839.3724
             ],
             "passed_time": 10.00392867,
             "remaining_time": 152.2219417,
             "test": [
              3744847.878
             ]
            },
            {
             "iteration": 185,
             "learn": [
              783823.3728
             ],
             "passed_time": 10.00450516,
             "remaining_time": 151.3584812,
             "test": [
              3744822.16
             ]
            },
            {
             "iteration": 186,
             "learn": [
              781324.8325
             ],
             "passed_time": 10.005799,
             "remaining_time": 150.5150406,
             "test": [
              3742550.988
             ]
            },
            {
             "iteration": 187,
             "learn": [
              775585.8223
             ],
             "passed_time": 10.31656784,
             "remaining_time": 154.3095147,
             "test": [
              3742112.923
             ]
            },
            {
             "iteration": 188,
             "learn": [
              770068.8716
             ],
             "passed_time": 10.33613065,
             "remaining_time": 153.7294352,
             "test": [
              3742103.365
             ]
            },
            {
             "iteration": 189,
             "learn": [
              769028.7856
             ],
             "passed_time": 10.3375538,
             "remaining_time": 152.8869799,
             "test": [
              3742017.043
             ]
            },
            {
             "iteration": 190,
             "learn": [
              766704.9722
             ],
             "passed_time": 10.49402633,
             "remaining_time": 154.3336124,
             "test": [
              3741836.023
             ]
            },
            {
             "iteration": 191,
             "learn": [
              760844.4317
             ],
             "passed_time": 10.8023651,
             "remaining_time": 157.9845896,
             "test": [
              3741461.56
             ]
            },
            {
             "iteration": 192,
             "learn": [
              755738.0171
             ],
             "passed_time": 10.83757184,
             "remaining_time": 157.6220941,
             "test": [
              3741526.526
             ]
            },
            {
             "iteration": 193,
             "learn": [
              750306.6758
             ],
             "passed_time": 10.99473255,
             "remaining_time": 159.0269048,
             "test": [
              3741516.692
             ]
            },
            {
             "iteration": 194,
             "learn": [
              747776.1501
             ],
             "passed_time": 11.08008988,
             "remaining_time": 159.3828313,
             "test": [
              3739973.6
             ]
            },
            {
             "iteration": 195,
             "learn": [
              742549.6884
             ],
             "passed_time": 11.15193613,
             "remaining_time": 159.5409638,
             "test": [
              3739723.093
             ]
            },
            {
             "iteration": 196,
             "learn": [
              736885.8748
             ],
             "passed_time": 11.32296547,
             "remaining_time": 161.1079808,
             "test": [
              3739531.597
             ]
            },
            {
             "iteration": 197,
             "learn": [
              735450.0085
             ],
             "passed_time": 11.36119338,
             "remaining_time": 160.7781003,
             "test": [
              3739085.914
             ]
            },
            {
             "iteration": 198,
             "learn": [
              729594.3174
             ],
             "passed_time": 11.54048789,
             "remaining_time": 162.4367165,
             "test": [
              3739374.908
             ]
            },
            {
             "iteration": 199,
             "learn": [
              726297.3356
             ],
             "passed_time": 11.55975188,
             "remaining_time": 161.8365263,
             "test": [
              3738903.511
             ]
            },
            {
             "iteration": 200,
             "learn": [
              722125.3512
             ],
             "passed_time": 11.86772514,
             "remaining_time": 165.2625008,
             "test": [
              3738780.2
             ]
            },
            {
             "iteration": 201,
             "learn": [
              716868.4809
             ],
             "passed_time": 11.90523395,
             "remaining_time": 164.9051713,
             "test": [
              3738676.244
             ]
            },
            {
             "iteration": 202,
             "learn": [
              712417.1352
             ],
             "passed_time": 11.94025157,
             "remaining_time": 164.5166681,
             "test": [
              3738647.06
             ]
            },
            {
             "iteration": 203,
             "learn": [
              706573.4957
             ],
             "passed_time": 12.00487508,
             "remaining_time": 164.5374055,
             "test": [
              3738079.987
             ]
            },
            {
             "iteration": 204,
             "learn": [
              702308.7633
             ],
             "passed_time": 12.07912145,
             "remaining_time": 164.6885096,
             "test": [
              3738191.238
             ]
            },
            {
             "iteration": 205,
             "learn": [
              697111.7268
             ],
             "passed_time": 12.39362767,
             "remaining_time": 168.0960957,
             "test": [
              3738228.454
             ]
            },
            {
             "iteration": 206,
             "learn": [
              695425.9706
             ],
             "passed_time": 12.39638142,
             "remaining_time": 167.2613203,
             "test": [
              3738054.197
             ]
            },
            {
             "iteration": 207,
             "learn": [
              690520.3628
             ],
             "passed_time": 12.73383464,
             "remaining_time": 170.927242,
             "test": [
              3738176.609
             ]
            },
            {
             "iteration": 208,
             "learn": [
              690009.054
             ],
             "passed_time": 12.73473782,
             "remaining_time": 170.060542,
             "test": [
              3738232.26
             ]
            },
            {
             "iteration": 209,
             "learn": [
              689166.7764
             ],
             "passed_time": 12.73638891,
             "remaining_time": 169.2120241,
             "test": [
              3738225.892
             ]
            },
            {
             "iteration": 210,
             "learn": [
              688028.7359
             ],
             "passed_time": 12.73900464,
             "remaining_time": 168.3842841,
             "test": [
              3738329.453
             ]
            },
            {
             "iteration": 211,
             "learn": [
              683133.3124
             ],
             "passed_time": 12.90214565,
             "remaining_time": 169.6753871,
             "test": [
              3738349.331
             ]
            },
            {
             "iteration": 212,
             "learn": [
              677992.7926
             ],
             "passed_time": 12.97525614,
             "remaining_time": 169.7748303,
             "test": [
              3738269.957
             ]
            },
            {
             "iteration": 213,
             "learn": [
              676544.434
             ],
             "passed_time": 13.1286128,
             "remaining_time": 170.9173611,
             "test": [
              3738319.083
             ]
            },
            {
             "iteration": 214,
             "learn": [
              671551.6069
             ],
             "passed_time": 13.43119496,
             "remaining_time": 173.9808277,
             "test": [
              3737098.002
             ]
            },
            {
             "iteration": 215,
             "learn": [
              669898.6822
             ],
             "passed_time": 13.45096234,
             "remaining_time": 173.367959,
             "test": [
              3737245.652
             ]
            },
            {
             "iteration": 216,
             "learn": [
              665135.8329
             ],
             "passed_time": 13.80426173,
             "remaining_time": 177.0380663,
             "test": [
              3735557.106
             ]
            },
            {
             "iteration": 217,
             "learn": [
              660480.3979
             ],
             "passed_time": 13.83914094,
             "remaining_time": 176.6077527,
             "test": [
              3735514.3
             ]
            },
            {
             "iteration": 218,
             "learn": [
              656598.4774
             ],
             "passed_time": 13.85730276,
             "remaining_time": 175.9687624,
             "test": [
              3735600.349
             ]
            },
            {
             "iteration": 219,
             "learn": [
              655718.0259
             ],
             "passed_time": 13.85790061,
             "remaining_time": 175.1134713,
             "test": [
              3735459.233
             ]
            },
            {
             "iteration": 220,
             "learn": [
              650898.323
             ],
             "passed_time": 14.18206374,
             "remaining_time": 178.3346386,
             "test": [
              3734857.136
             ]
            },
            {
             "iteration": 221,
             "learn": [
              646126.4789
             ],
             "passed_time": 14.33092893,
             "remaining_time": 179.3302728,
             "test": [
              3734650.526
             ]
            },
            {
             "iteration": 222,
             "learn": [
              641977.6266
             ],
             "passed_time": 14.65347456,
             "remaining_time": 182.4784702,
             "test": [
              3733582.116
             ]
            },
            {
             "iteration": 223,
             "learn": [
              637407.9785
             ],
             "passed_time": 14.94442208,
             "remaining_time": 185.2040879,
             "test": [
              3732544.601
             ]
            },
            {
             "iteration": 224,
             "learn": [
              632922.5498
             ],
             "passed_time": 15.01754104,
             "remaining_time": 185.2163395,
             "test": [
              3733091.795
             ]
            },
            {
             "iteration": 225,
             "learn": [
              628573.3886
             ],
             "passed_time": 15.36128033,
             "remaining_time": 188.5495205,
             "test": [
              3733730.249
             ]
            },
            {
             "iteration": 226,
             "learn": [
              623380.2818
             ],
             "passed_time": 15.37832924,
             "remaining_time": 187.8595021,
             "test": [
              3733488.119
             ]
            },
            {
             "iteration": 227,
             "learn": [
              622265.4564
             ],
             "passed_time": 15.38397428,
             "remaining_time": 187.0367399,
             "test": [
              3733678.723
             ]
            },
            {
             "iteration": 228,
             "learn": [
              618066.843
             ],
             "passed_time": 15.53019821,
             "remaining_time": 187.9221801,
             "test": [
              3733702.967
             ]
            },
            {
             "iteration": 229,
             "learn": [
              613593.9196
             ],
             "passed_time": 15.60262191,
             "remaining_time": 187.9098377,
             "test": [
              3734067.386
             ]
            },
            {
             "iteration": 230,
             "learn": [
              609128.8833
             ],
             "passed_time": 15.91917425,
             "remaining_time": 190.8233484,
             "test": [
              3733930.937
             ]
            },
            {
             "iteration": 231,
             "learn": [
              604508.8923
             ],
             "passed_time": 15.99726843,
             "remaining_time": 190.8639613,
             "test": [
              3734637.186
             ]
            },
            {
             "iteration": 232,
             "learn": [
              599882.4303
             ],
             "passed_time": 16.13954271,
             "remaining_time": 191.6657283,
             "test": [
              3734467.812
             ]
            },
            {
             "iteration": 233,
             "learn": [
              598357.0677
             ],
             "passed_time": 16.2108581,
             "remaining_time": 191.620656,
             "test": [
              3733738.682
             ]
            },
            {
             "iteration": 234,
             "learn": [
              593675.8952
             ],
             "passed_time": 16.54431619,
             "remaining_time": 194.6597203,
             "test": [
              3732541.855
             ]
            },
            {
             "iteration": 235,
             "learn": [
              592146.0151
             ],
             "passed_time": 16.58504919,
             "remaining_time": 194.2418473,
             "test": [
              3732345.209
             ]
            },
            {
             "iteration": 236,
             "learn": [
              589806.7187
             ],
             "passed_time": 16.74760222,
             "remaining_time": 195.2473626,
             "test": [
              3731774.076
             ]
            },
            {
             "iteration": 237,
             "learn": [
              588139.0497
             ],
             "passed_time": 16.76791125,
             "remaining_time": 194.5923146,
             "test": [
              3731397.867
             ]
            },
            {
             "iteration": 238,
             "learn": [
              584241.8265
             ],
             "passed_time": 16.91679648,
             "remaining_time": 195.4279292,
             "test": [
              3731159.555
             ]
            },
            {
             "iteration": 239,
             "learn": [
              579935.9978
             ],
             "passed_time": 17.23669788,
             "remaining_time": 198.2220256,
             "test": [
              3731238.758
             ]
            },
            {
             "iteration": 240,
             "learn": [
              578175.6413
             ],
             "passed_time": 17.24330055,
             "remaining_time": 197.4035943,
             "test": [
              3730876.618
             ]
            },
            {
             "iteration": 241,
             "learn": [
              573947.0934
             ],
             "passed_time": 17.40861429,
             "remaining_time": 198.4006538,
             "test": [
              3730674.276
             ]
            },
            {
             "iteration": 242,
             "learn": [
              570057.6828
             ],
             "passed_time": 17.48283495,
             "remaining_time": 198.3546335,
             "test": [
              3730512.081
             ]
            },
            {
             "iteration": 243,
             "learn": [
              566121.1962
             ],
             "passed_time": 17.52429007,
             "remaining_time": 197.9382928,
             "test": [
              3731845.964
             ]
            },
            {
             "iteration": 244,
             "learn": [
              561790.5786
             ],
             "passed_time": 17.84659283,
             "remaining_time": 200.6831153,
             "test": [
              3731671.951
             ]
            },
            {
             "iteration": 245,
             "learn": [
              557752.2874
             ],
             "passed_time": 17.91660175,
             "remaining_time": 200.5785415,
             "test": [
              3731550.127
             ]
            },
            {
             "iteration": 246,
             "learn": [
              553940.6059
             ],
             "passed_time": 17.9272852,
             "remaining_time": 199.8130209,
             "test": [
              3730880.906
             ]
            },
            {
             "iteration": 247,
             "learn": [
              552942.8498
             ],
             "passed_time": 17.92930527,
             "remaining_time": 198.957452,
             "test": [
              3730899.374
             ]
            },
            {
             "iteration": 248,
             "learn": [
              549331.217
             ],
             "passed_time": 18.07769702,
             "remaining_time": 199.7258816,
             "test": [
              3730959.386
             ]
            },
            {
             "iteration": 249,
             "learn": [
              545586.6356
             ],
             "passed_time": 18.23204483,
             "remaining_time": 200.5524931,
             "test": [
              3731059.175
             ]
            },
            {
             "iteration": 250,
             "learn": [
              541959.7599
             ],
             "passed_time": 18.55645438,
             "remaining_time": 203.233837,
             "test": [
              3731275.5
             ]
            },
            {
             "iteration": 251,
             "learn": [
              538146.3688
             ],
             "passed_time": 18.70582463,
             "remaining_time": 203.9825638,
             "test": [
              3731290.349
             ]
            },
            {
             "iteration": 252,
             "learn": [
              534448.488
             ],
             "passed_time": 18.85367448,
             "remaining_time": 204.707683,
             "test": [
              3731303.316
             ]
            },
            {
             "iteration": 253,
             "learn": [
              530503.0439
             ],
             "passed_time": 18.87400075,
             "remaining_time": 204.0472679,
             "test": [
              3731582.591
             ]
            },
            {
             "iteration": 254,
             "learn": [
              526793.8575
             ],
             "passed_time": 18.90818813,
             "remaining_time": 203.541084,
             "test": [
              3731720.907
             ]
            },
            {
             "iteration": 255,
             "learn": [
              525301.1607
             ],
             "passed_time": 18.92797819,
             "remaining_time": 202.8842662,
             "test": [
              3731495.375
             ]
            },
            {
             "iteration": 256,
             "learn": [
              521503.0125
             ],
             "passed_time": 19.01464713,
             "remaining_time": 202.9462143,
             "test": [
              3730918.785
             ]
            },
            {
             "iteration": 257,
             "learn": [
              517597.2923
             ],
             "passed_time": 19.24486737,
             "remaining_time": 204.5326602,
             "test": [
              3731014.257
             ]
            },
            {
             "iteration": 258,
             "learn": [
              513939.1259
             ],
             "passed_time": 19.46258175,
             "remaining_time": 205.9727281,
             "test": [
              3731758.383
             ]
            },
            {
             "iteration": 259,
             "learn": [
              510475.8776
             ],
             "passed_time": 19.69419766,
             "remaining_time": 207.5465446,
             "test": [
              3731672.821
             ]
            },
            {
             "iteration": 260,
             "learn": [
              507053.4504
             ],
             "passed_time": 19.74528252,
             "remaining_time": 207.2119878,
             "test": [
              3731362.929
             ]
            },
            {
             "iteration": 261,
             "learn": [
              505251.8631
             ],
             "passed_time": 20.23380559,
             "remaining_time": 211.4509912,
             "test": [
              3731118.61
             ]
            },
            {
             "iteration": 262,
             "learn": [
              504174.1775
             ],
             "passed_time": 20.23570768,
             "remaining_time": 210.5898553,
             "test": [
              3731604.984
             ]
            },
            {
             "iteration": 263,
             "learn": [
              500456.6617
             ],
             "passed_time": 20.30753527,
             "remaining_time": 210.4599109,
             "test": [
              3731668.376
             ]
            },
            {
             "iteration": 264,
             "learn": [
              497006.9432
             ],
             "passed_time": 20.34472577,
             "remaining_time": 209.9729244,
             "test": [
              3731929.158
             ]
            },
            {
             "iteration": 265,
             "learn": [
              493536.2011
             ],
             "passed_time": 20.50276853,
             "remaining_time": 210.7314631,
             "test": [
              3730946.924
             ]
            },
            {
             "iteration": 266,
             "learn": [
              490785.1814
             ],
             "passed_time": 20.66795598,
             "remaining_time": 211.5562685,
             "test": [
              3731055.545
             ]
            },
            {
             "iteration": 267,
             "learn": [
              487243.2579
             ],
             "passed_time": 20.70918587,
             "remaining_time": 211.1100589,
             "test": [
              3731155.58
             ]
            },
            {
             "iteration": 268,
             "learn": [
              485975.7819
             ],
             "passed_time": 20.78837883,
             "remaining_time": 211.0522772,
             "test": [
              3730697.268
             ]
            },
            {
             "iteration": 269,
             "learn": [
              482680.098
             ],
             "passed_time": 21.11125134,
             "remaining_time": 213.458208,
             "test": [
              3730699.809
             ]
            },
            {
             "iteration": 270,
             "learn": [
              479258.0891
             ],
             "passed_time": 21.196308,
             "remaining_time": 213.4491681,
             "test": [
              3730811.151
             ]
            },
            {
             "iteration": 271,
             "learn": [
              475864.8358
             ],
             "passed_time": 21.33560931,
             "remaining_time": 213.983611,
             "test": [
              3731194.076
             ]
            },
            {
             "iteration": 272,
             "learn": [
              473790.0901
             ],
             "passed_time": 21.6774788,
             "remaining_time": 216.536574,
             "test": [
              3730608.04
             ]
            },
            {
             "iteration": 273,
             "learn": [
              470489.6305
             ],
             "passed_time": 21.71289599,
             "remaining_time": 216.0195419,
             "test": [
              3730381.378
             ]
            },
            {
             "iteration": 274,
             "learn": [
              467192.5614
             ],
             "passed_time": 21.79207449,
             "remaining_time": 215.9396472,
             "test": [
              3730492.561
             ]
            },
            {
             "iteration": 275,
             "learn": [
              464286.1782
             ],
             "passed_time": 21.79851691,
             "remaining_time": 215.1418843,
             "test": [
              3731088.394
             ]
            },
            {
             "iteration": 276,
             "learn": [
              460841.0251
             ],
             "passed_time": 21.87660962,
             "remaining_time": 215.0541805,
             "test": [
              3730181.837
             ]
            },
            {
             "iteration": 277,
             "learn": [
              457457.9024
             ],
             "passed_time": 22.2075711,
             "remaining_time": 217.4424767,
             "test": [
              3730171.516
             ]
            },
            {
             "iteration": 278,
             "learn": [
              454045.7185
             ],
             "passed_time": 22.28278144,
             "remaining_time": 217.317019,
             "test": [
              3730248.689
             ]
            },
            {
             "iteration": 279,
             "learn": [
              451206.8929
             ],
             "passed_time": 22.32864785,
             "remaining_time": 216.9068649,
             "test": [
              3730295.261
             ]
            },
            {
             "iteration": 280,
             "learn": [
              448116.0602
             ],
             "passed_time": 22.46714672,
             "remaining_time": 217.3956297,
             "test": [
              3730369.336
             ]
            },
            {
             "iteration": 281,
             "learn": [
              444803.4489
             ],
             "passed_time": 22.79561177,
             "remaining_time": 219.7108965,
             "test": [
              3730501.547
             ]
            },
            {
             "iteration": 282,
             "learn": [
              441395.5037
             ],
             "passed_time": 23.15936011,
             "remaining_time": 222.3462241,
             "test": [
              3731007.26
             ]
            },
            {
             "iteration": 283,
             "learn": [
              439278.8369
             ],
             "passed_time": 23.24214069,
             "remaining_time": 222.2734299,
             "test": [
              3732079.11
             ]
            },
            {
             "iteration": 284,
             "learn": [
              438357.1435
             ],
             "passed_time": 23.24845807,
             "remaining_time": 221.4721532,
             "test": [
              3731988.697
             ]
            },
            {
             "iteration": 285,
             "learn": [
              435122.8095
             ],
             "passed_time": 23.41391107,
             "remaining_time": 222.1865547,
             "test": [
              3732009.423
             ]
            },
            {
             "iteration": 286,
             "learn": [
              431916.3021
             ],
             "passed_time": 23.57016694,
             "remaining_time": 222.8078847,
             "test": [
              3732273.099
             ]
            },
            {
             "iteration": 287,
             "learn": [
              428870.7565
             ],
             "passed_time": 23.88884234,
             "remaining_time": 224.9532653,
             "test": [
              3732336.45
             ]
            },
            {
             "iteration": 288,
             "learn": [
              427460.5693
             ],
             "passed_time": 23.96214167,
             "remaining_time": 224.7798133,
             "test": [
              3732515.138
             ]
            },
            {
             "iteration": 289,
             "learn": [
              424315.7665
             ],
             "passed_time": 24.10203259,
             "remaining_time": 225.229339,
             "test": [
              3732212.528
             ]
            },
            {
             "iteration": 290,
             "learn": [
              421241.8096
             ],
             "passed_time": 24.1369253,
             "remaining_time": 224.6973562,
             "test": [
              3731697.509
             ]
            },
            {
             "iteration": 291,
             "learn": [
              419077.3656
             ],
             "passed_time": 24.46158755,
             "remaining_time": 226.8560928,
             "test": [
              3732136.636
             ]
            },
            {
             "iteration": 292,
             "learn": [
              415982.73
             ],
             "passed_time": 24.60113905,
             "remaining_time": 227.2876567,
             "test": [
              3732268.173
             ]
            },
            {
             "iteration": 293,
             "learn": [
              414749.9645
             ],
             "passed_time": 24.95773723,
             "remaining_time": 229.7130508,
             "test": [
              3732252.988
             ]
            },
            {
             "iteration": 294,
             "learn": [
              411682.1033
             ],
             "passed_time": 25.03246979,
             "remaining_time": 229.5350196,
             "test": [
              3731896.348
             ]
            },
            {
             "iteration": 295,
             "learn": [
              408909.6958
             ],
             "passed_time": 25.38081888,
             "remaining_time": 231.8572103,
             "test": [
              3731861.863
             ]
            },
            {
             "iteration": 296,
             "learn": [
              406111.5486
             ],
             "passed_time": 25.42188705,
             "remaining_time": 231.3648509,
             "test": [
              3732122.434
             ]
            },
            {
             "iteration": 297,
             "learn": [
              403236.1624
             ],
             "passed_time": 25.49921631,
             "remaining_time": 231.2043036,
             "test": [
              3731917.928
             ]
            },
            {
             "iteration": 298,
             "learn": [
              402492.8721
             ],
             "passed_time": 25.50202372,
             "remaining_time": 230.371124,
             "test": [
              3732272.464
             ]
            },
            {
             "iteration": 299,
             "learn": [
              399536.943
             ],
             "passed_time": 25.57645555,
             "remaining_time": 230.1880999,
             "test": [
              3732812.944
             ]
            },
            {
             "iteration": 300,
             "learn": [
              396578.3248
             ],
             "passed_time": 25.94341015,
             "remaining_time": 232.628784,
             "test": [
              3732940.212
             ]
            },
            {
             "iteration": 301,
             "learn": [
              393636.683
             ],
             "passed_time": 26.09313223,
             "remaining_time": 233.110168,
             "test": [
              3733114.04
             ]
            },
            {
             "iteration": 302,
             "learn": [
              391277.6907
             ],
             "passed_time": 26.17540288,
             "remaining_time": 232.9870019,
             "test": [
              3733040.82
             ]
            },
            {
             "iteration": 303,
             "learn": [
              388349.1978
             ],
             "passed_time": 26.2574028,
             "remaining_time": 232.8617038,
             "test": [
              3733111.101
             ]
            },
            {
             "iteration": 304,
             "learn": [
              385866.1022
             ],
             "passed_time": 26.32698061,
             "remaining_time": 232.626927,
             "test": [
              3733196.144
             ]
            },
            {
             "iteration": 305,
             "learn": [
              382904.9436
             ],
             "passed_time": 26.6925025,
             "remaining_time": 234.9986985,
             "test": [
              3732221.855
             ]
            },
            {
             "iteration": 306,
             "learn": [
              380260.1573
             ],
             "passed_time": 26.72761512,
             "remaining_time": 234.4542916,
             "test": [
              3731621.653
             ]
            },
            {
             "iteration": 307,
             "learn": [
              377565.3291
             ],
             "passed_time": 26.76939571,
             "remaining_time": 233.9714716,
             "test": [
              3731977.007
             ]
            },
            {
             "iteration": 308,
             "learn": [
              374747.0589
             ],
             "passed_time": 27.12722376,
             "remaining_time": 236.2438807,
             "test": [
              3732022.312
             ]
            },
            {
             "iteration": 309,
             "learn": [
              372021.0942
             ],
             "passed_time": 27.28852135,
             "remaining_time": 236.7939433,
             "test": [
              3731864.544
             ]
            },
            {
             "iteration": 310,
             "learn": [
              371280.7559
             ],
             "passed_time": 27.29462465,
             "remaining_time": 235.9975745,
             "test": [
              3731812.455
             ]
            },
            {
             "iteration": 311,
             "learn": [
              368676.6202
             ],
             "passed_time": 27.31470867,
             "remaining_time": 235.3267208,
             "test": [
              3731559.378
             ]
            },
            {
             "iteration": 312,
             "learn": [
              366041.7471
             ],
             "passed_time": 27.47872111,
             "remaining_time": 235.8956026,
             "test": [
              3731519.788
             ]
            },
            {
             "iteration": 313,
             "learn": [
              363453.828
             ],
             "passed_time": 27.56057699,
             "remaining_time": 235.7570376,
             "test": [
              3730567.621
             ]
            },
            {
             "iteration": 314,
             "learn": [
              361119.577
             ],
             "passed_time": 27.70831154,
             "remaining_time": 236.1803698,
             "test": [
              3730607.316
             ]
            },
            {
             "iteration": 315,
             "learn": [
              358508.0803
             ],
             "passed_time": 28.06355496,
             "remaining_time": 238.3625998,
             "test": [
              3730561.501
             ]
            },
            {
             "iteration": 316,
             "learn": [
              357681.8581
             ],
             "passed_time": 28.2208901,
             "remaining_time": 238.8537796,
             "test": [
              3730149.309
             ]
            },
            {
             "iteration": 317,
             "learn": [
              355043.9818
             ],
             "passed_time": 28.56705,
             "remaining_time": 240.9334217,
             "test": [
              3730056.658
             ]
            },
            {
             "iteration": 318,
             "learn": [
              352414.5288
             ],
             "passed_time": 28.8960046,
             "remaining_time": 242.853255,
             "test": [
              3730148.079
             ]
            },
            {
             "iteration": 319,
             "learn": [
              350017.1282
             ],
             "passed_time": 29.04504217,
             "remaining_time": 243.2522282,
             "test": [
              3729891.129
             ]
            },
            {
             "iteration": 320,
             "learn": [
              347605.3906
             ],
             "passed_time": 29.40795301,
             "remaining_time": 245.4327293,
             "test": [
              3729683.639
             ]
            },
            {
             "iteration": 321,
             "learn": [
              344795.2561
             ],
             "passed_time": 29.56352499,
             "remaining_time": 245.8730432,
             "test": [
              3729752.579
             ]
            },
            {
             "iteration": 322,
             "learn": [
              343595.7528
             ],
             "passed_time": 29.58300399,
             "remaining_time": 245.181739,
             "test": [
              3729678.233
             ]
            },
            {
             "iteration": 323,
             "learn": [
              341108.7351
             ],
             "passed_time": 29.89340893,
             "remaining_time": 246.8974145,
             "test": [
              3729687.152
             ]
            },
            {
             "iteration": 324,
             "learn": [
              339694.4047
             ],
             "passed_time": 29.97389563,
             "remaining_time": 246.7082178,
             "test": [
              3729769.925
             ]
            },
            {
             "iteration": 325,
             "learn": [
              337156.6433
             ],
             "passed_time": 30.34608298,
             "remaining_time": 248.9123494,
             "test": [
              3729790.967
             ]
            },
            {
             "iteration": 326,
             "learn": [
              334835.1168
             ],
             "passed_time": 30.51205778,
             "remaining_time": 249.4150778,
             "test": [
              3729806.496
             ]
            },
            {
             "iteration": 327,
             "learn": [
              332890.8248
             ],
             "passed_time": 30.88911796,
             "remaining_time": 251.6333024,
             "test": [
              3730056.578
             ]
            },
            {
             "iteration": 328,
             "learn": [
              330629.8923
             ],
             "passed_time": 30.91525009,
             "remaining_time": 250.9867264,
             "test": [
              3730017.569
             ]
            },
            {
             "iteration": 329,
             "learn": [
              328338.3589
             ],
             "passed_time": 31.27520498,
             "remaining_time": 253.0448403,
             "test": [
              3729921.114
             ]
            },
            {
             "iteration": 330,
             "learn": [
              326279.4489
             ],
             "passed_time": 31.29346929,
             "remaining_time": 252.3331406,
             "test": [
              3729845.747
             ]
            },
            {
             "iteration": 331,
             "learn": [
              324172.4135
             ],
             "passed_time": 31.37125987,
             "remaining_time": 252.1039799,
             "test": [
              3730465.287
             ]
            },
            {
             "iteration": 332,
             "learn": [
              321861.2695
             ],
             "passed_time": 31.73243666,
             "remaining_time": 254.1453711,
             "test": [
              3730542.373
             ]
            },
            {
             "iteration": 333,
             "learn": [
              319595.841
             ],
             "passed_time": 31.80396939,
             "remaining_time": 253.8604263,
             "test": [
              3730596.179
             ]
            },
            {
             "iteration": 334,
             "learn": [
              317346.1585
             ],
             "passed_time": 31.96980597,
             "remaining_time": 254.3269639,
             "test": [
              3730538.71
             ]
            },
            {
             "iteration": 335,
             "learn": [
              315008.8039
             ],
             "passed_time": 32.11995313,
             "remaining_time": 254.6653426,
             "test": [
              3730402.019
             ]
            },
            {
             "iteration": 336,
             "learn": [
              312596.5015
             ],
             "passed_time": 32.48682838,
             "remaining_time": 256.7134242,
             "test": [
              3730540.037
             ]
            },
            {
             "iteration": 337,
             "learn": [
              310310.9859
             ],
             "passed_time": 32.52064578,
             "remaining_time": 256.1241393,
             "test": [
              3730479.583
             ]
            },
            {
             "iteration": 338,
             "learn": [
              308026.448
             ],
             "passed_time": 32.59395373,
             "remaining_time": 255.8481147,
             "test": [
              3730483.759
             ]
            },
            {
             "iteration": 339,
             "learn": [
              305783.0791
             ],
             "passed_time": 32.66924516,
             "remaining_time": 255.5888003,
             "test": [
              3730455.705
             ]
            },
            {
             "iteration": 340,
             "learn": [
              303609.5715
             ],
             "passed_time": 33.01230876,
             "remaining_time": 257.4185601,
             "test": [
              3730241.886
             ]
            },
            {
             "iteration": 341,
             "learn": [
              301490.6086
             ],
             "passed_time": 33.36019907,
             "remaining_time": 259.2731261,
             "test": [
              3730206.383
             ]
            },
            {
             "iteration": 342,
             "learn": [
              299263.9155
             ],
             "passed_time": 33.53521983,
             "remaining_time": 259.7757407,
             "test": [
              3730166.402
             ]
            },
            {
             "iteration": 343,
             "learn": [
              297251.4063
             ],
             "passed_time": 33.85959648,
             "remaining_time": 261.4275821,
             "test": [
              3730456.551
             ]
            },
            {
             "iteration": 344,
             "learn": [
              294956.7592
             ],
             "passed_time": 33.89474487,
             "remaining_time": 260.842167,
             "test": [
              3730315.389
             ]
            },
            {
             "iteration": 345,
             "learn": [
              293018.2398
             ],
             "passed_time": 33.91357772,
             "remaining_time": 260.134784,
             "test": [
              3730395.37
             ]
            },
            {
             "iteration": 346,
             "learn": [
              291409.3317
             ],
             "passed_time": 34.25003976,
             "remaining_time": 261.8598141,
             "test": [
              3730180.79
             ]
            },
            {
             "iteration": 347,
             "learn": [
              289359.5498
             ],
             "passed_time": 34.60504154,
             "remaining_time": 263.7142821,
             "test": [
              3729575.191
             ]
            },
            {
             "iteration": 348,
             "learn": [
              288798.5941
             ],
             "passed_time": 34.60890286,
             "remaining_time": 262.8888295,
             "test": [
              3729847.692
             ]
            },
            {
             "iteration": 349,
             "learn": [
              286762.6423
             ],
             "passed_time": 34.92142418,
             "remaining_time": 264.4050688,
             "test": [
              3730004.479
             ]
            },
            {
             "iteration": 350,
             "learn": [
              284942.7187
             ],
             "passed_time": 35.23273429,
             "remaining_time": 265.9017468,
             "test": [
              3730074.512
             ]
            },
            {
             "iteration": 351,
             "learn": [
              282833.3561
             ],
             "passed_time": 35.31046739,
             "remaining_time": 265.6310161,
             "test": [
              3730254.946
             ]
            },
            {
             "iteration": 352,
             "learn": [
              280647.2856
             ],
             "passed_time": 35.6704502,
             "remaining_time": 267.4778518,
             "test": [
              3730305.623
             ]
            },
            {
             "iteration": 353,
             "learn": [
              278587.0675
             ],
             "passed_time": 35.75352265,
             "remaining_time": 267.242432,
             "test": [
              3730312.528
             ]
            },
            {
             "iteration": 354,
             "learn": [
              276580.0898
             ],
             "passed_time": 35.92418915,
             "remaining_time": 267.6605079,
             "test": [
              3730079.438
             ]
            },
            {
             "iteration": 355,
             "learn": [
              274794.0781
             ],
             "passed_time": 36.2552003,
             "remaining_time": 269.2661505,
             "test": [
              3730108.748
             ]
            },
            {
             "iteration": 356,
             "learn": [
              272677.1607
             ],
             "passed_time": 36.62765159,
             "remaining_time": 271.1677399,
             "test": [
              3730093.034
             ]
            },
            {
             "iteration": 357,
             "learn": [
              272142.3421
             ],
             "passed_time": 36.64856723,
             "remaining_time": 270.4623314,
             "test": [
              3730178.723
             ]
            },
            {
             "iteration": 358,
             "learn": [
              270209.403
             ],
             "passed_time": 36.73171707,
             "remaining_time": 270.2185648,
             "test": [
              3730515.111
             ]
            },
            {
             "iteration": 359,
             "learn": [
              268256.3391
             ],
             "passed_time": 37.09088334,
             "remaining_time": 271.9998111,
             "test": [
              3730558.717
             ]
            },
            {
             "iteration": 360,
             "learn": [
              266240.0389
             ],
             "passed_time": 37.41724931,
             "remaining_time": 273.5294209,
             "test": [
              3729867.962
             ]
            },
            {
             "iteration": 361,
             "learn": [
              264418.3199
             ],
             "passed_time": 37.50561095,
             "remaining_time": 273.3143693,
             "test": [
              3729847.726
             ]
            },
            {
             "iteration": 362,
             "learn": [
              263691.1074
             ],
             "passed_time": 37.6640065,
             "remaining_time": 273.6087745,
             "test": [
              3729602.21
             ]
            },
            {
             "iteration": 363,
             "learn": [
              261817.2133
             ],
             "passed_time": 37.73478049,
             "remaining_time": 273.2661576,
             "test": [
              3729773.265
             ]
            },
            {
             "iteration": 364,
             "learn": [
              259987.7226
             ],
             "passed_time": 37.77318241,
             "remaining_time": 272.6913306,
             "test": [
              3729759.03
             ]
            },
            {
             "iteration": 365,
             "learn": [
              258170.7272
             ],
             "passed_time": 37.94165647,
             "remaining_time": 273.0555277,
             "test": [
              3729801.982
             ]
            },
            {
             "iteration": 366,
             "learn": [
              256288.0946
             ],
             "passed_time": 38.10968249,
             "remaining_time": 273.4136077,
             "test": [
              3729774.354
             ]
            },
            {
             "iteration": 367,
             "learn": [
              254885.5361
             ],
             "passed_time": 38.12924652,
             "remaining_time": 272.7070023,
             "test": [
              3729789.083
             ]
            },
            {
             "iteration": 368,
             "learn": [
              253095.2988
             ],
             "passed_time": 38.49126699,
             "remaining_time": 274.445863,
             "test": [
              3729801.105
             ]
            },
            {
             "iteration": 369,
             "learn": [
              251288.2466
             ],
             "passed_time": 38.5682592,
             "remaining_time": 274.1473559,
             "test": [
              3729432.052
             ]
            },
            {
             "iteration": 370,
             "learn": [
              249394.1316
             ],
             "passed_time": 38.92401683,
             "remaining_time": 275.8254454,
             "test": [
              3729315.875
             ]
            },
            {
             "iteration": 371,
             "learn": [
              247651.5385
             ],
             "passed_time": 39.09306189,
             "remaining_time": 276.1735663,
             "test": [
              3729221.948
             ]
            },
            {
             "iteration": 372,
             "learn": [
              245924.1787
             ],
             "passed_time": 39.25113744,
             "remaining_time": 276.441657,
             "test": [
              3728886.842
             ]
            },
            {
             "iteration": 373,
             "learn": [
              244249.6071
             ],
             "passed_time": 39.4177163,
             "remaining_time": 276.7671738,
             "test": [
              3728944.425
             ]
            },
            {
             "iteration": 374,
             "learn": [
              242673.289
             ],
             "passed_time": 39.59009387,
             "remaining_time": 277.1306571,
             "test": [
              3728926.6
             ]
            },
            {
             "iteration": 375,
             "learn": [
              240895.8467
             ],
             "passed_time": 39.91561037,
             "remaining_time": 278.5600043,
             "test": [
              3728931.601
             ]
            },
            {
             "iteration": 376,
             "learn": [
              239121.2948
             ],
             "passed_time": 40.26110581,
             "remaining_time": 280.1190465,
             "test": [
              3728941.867
             ]
            },
            {
             "iteration": 377,
             "learn": [
              237424.4365
             ],
             "passed_time": 40.40905269,
             "remaining_time": 280.2977147,
             "test": [
              3728951.612
             ]
            },
            {
             "iteration": 378,
             "learn": [
              237027.4007
             ],
             "passed_time": 40.41164862,
             "remaining_time": 279.469475,
             "test": [
              3729168.64
             ]
            },
            {
             "iteration": 379,
             "learn": [
              235223.1036
             ],
             "passed_time": 40.57153567,
             "remaining_time": 279.7300617,
             "test": [
              3729192.411
             ]
            },
            {
             "iteration": 380,
             "learn": [
              233589.9351
             ],
             "passed_time": 40.72792986,
             "remaining_time": 279.9644312,
             "test": [
              3729265.403
             ]
            },
            {
             "iteration": 381,
             "learn": [
              232694.7637
             ],
             "passed_time": 40.767673,
             "remaining_time": 279.3972982,
             "test": [
              3729208.618
             ]
            },
            {
             "iteration": 382,
             "learn": [
              232333.8717
             ],
             "passed_time": 40.77134893,
             "remaining_time": 278.5864756,
             "test": [
              3729447.548
             ]
            },
            {
             "iteration": 383,
             "learn": [
              230693.6306
             ],
             "passed_time": 40.86372939,
             "remaining_time": 278.3841565,
             "test": [
              3729488.678
             ]
            },
            {
             "iteration": 384,
             "learn": [
              229046.6794
             ],
             "passed_time": 41.02483929,
             "remaining_time": 278.6492331,
             "test": [
              3729540.131
             ]
            },
            {
             "iteration": 385,
             "learn": [
              227330.546
             ],
             "passed_time": 41.06228354,
             "remaining_time": 278.0746352,
             "test": [
              3729597.396
             ]
            },
            {
             "iteration": 386,
             "learn": [
              225856.2235
             ],
             "passed_time": 41.21600194,
             "remaining_time": 278.2878891,
             "test": [
              3729588.415
             ]
            },
            {
             "iteration": 387,
             "learn": [
              224333.2218
             ],
             "passed_time": 41.2957404,
             "remaining_time": 278.0012215,
             "test": [
              3729603.114
             ]
            },
            {
             "iteration": 388,
             "learn": [
              222669.5357
             ],
             "passed_time": 41.37222252,
             "remaining_time": 277.6937609,
             "test": [
              3729593.345
             ]
            },
            {
             "iteration": 389,
             "learn": [
              221107.3192
             ],
             "passed_time": 41.45976472,
             "remaining_time": 277.4615023,
             "test": [
              3729584.956
             ]
            },
            {
             "iteration": 390,
             "learn": [
              219649.2067
             ],
             "passed_time": 41.54787615,
             "remaining_time": 277.2337823,
             "test": [
              3729344.483
             ]
            },
            {
             "iteration": 391,
             "learn": [
              218136.9476
             ],
             "passed_time": 41.87665177,
             "remaining_time": 278.6079281,
             "test": [
              3729391.468
             ]
            },
            {
             "iteration": 392,
             "learn": [
              216621.7795
             ],
             "passed_time": 42.28279401,
             "remaining_time": 280.4866259,
             "test": [
              3729435.815
             ]
            },
            {
             "iteration": 393,
             "learn": [
              215064.8241
             ],
             "passed_time": 42.64476681,
             "remaining_time": 282.0615795,
             "test": [
              3729396.389
             ]
            },
            {
             "iteration": 394,
             "learn": [
              213545.2086
             ],
             "passed_time": 42.72995348,
             "remaining_time": 281.8013388,
             "test": [
              3729665.212
             ]
            },
            {
             "iteration": 395,
             "learn": [
              212077.42
             ],
             "passed_time": 42.81619512,
             "remaining_time": 281.5489194,
             "test": [
              3729722.839
             ]
            },
            {
             "iteration": 396,
             "learn": [
              210689.4152
             ],
             "passed_time": 42.98755672,
             "remaining_time": 281.8554412,
             "test": [
              3729707.734
             ]
            },
            {
             "iteration": 397,
             "learn": [
              209203.5334
             ],
             "passed_time": 43.15844651,
             "remaining_time": 282.156477,
             "test": [
              3729804.102
             ]
            },
            {
             "iteration": 398,
             "learn": [
              207768.9439
             ],
             "passed_time": 43.31606095,
             "remaining_time": 282.3686079,
             "test": [
              3729840.912
             ]
            },
            {
             "iteration": 399,
             "learn": [
              206396.2474
             ],
             "passed_time": 43.64172061,
             "remaining_time": 283.6711839,
             "test": [
              3729856.73
             ]
            },
            {
             "iteration": 400,
             "learn": [
              204934.9267
             ],
             "passed_time": 43.72652704,
             "remaining_time": 283.4045979,
             "test": [
              3729941.659
             ]
            },
            {
             "iteration": 401,
             "learn": [
              203467.9115
             ],
             "passed_time": 43.80144172,
             "remaining_time": 283.074989,
             "test": [
              3729988.505
             ]
            },
            {
             "iteration": 402,
             "learn": [
              202157.7605
             ],
             "passed_time": 43.87366825,
             "remaining_time": 282.7293212,
             "test": [
              3730139.495
             ]
            },
            {
             "iteration": 403,
             "learn": [
              200783.4809
             ],
             "passed_time": 44.25021587,
             "remaining_time": 284.340496,
             "test": [
              3730235.335
             ]
            },
            {
             "iteration": 404,
             "learn": [
              199395.216
             ],
             "passed_time": 44.54587087,
             "remaining_time": 285.423543,
             "test": [
              3730175.377
             ]
            },
            {
             "iteration": 405,
             "learn": [
              198816.2758
             ],
             "passed_time": 44.87786891,
             "remaining_time": 286.7319999,
             "test": [
              3730163.197
             ]
            },
            {
             "iteration": 406,
             "learn": [
              197365.4817
             ],
             "passed_time": 45.02628524,
             "remaining_time": 286.8627951,
             "test": [
              3730469.017
             ]
            },
            {
             "iteration": 407,
             "learn": [
              196046.9065
             ],
             "passed_time": 45.19425252,
             "remaining_time": 287.1164277,
             "test": [
              3730478.786
             ]
            },
            {
             "iteration": 408,
             "learn": [
              194583.2346
             ],
             "passed_time": 45.36008567,
             "remaining_time": 287.3544792,
             "test": [
              3730448.205
             ]
            },
            {
             "iteration": 409,
             "learn": [
              193238.1962
             ],
             "passed_time": 45.40220062,
             "remaining_time": 286.8090234,
             "test": [
              3730514.589
             ]
            },
            {
             "iteration": 410,
             "learn": [
              191875.7921
             ],
             "passed_time": 45.48347871,
             "remaining_time": 286.5127162,
             "test": [
              3730530.489
             ]
            },
            {
             "iteration": 411,
             "learn": [
              190549.8565
             ],
             "passed_time": 45.52344649,
             "remaining_time": 285.95796,
             "test": [
              3730536.268
             ]
            },
            {
             "iteration": 412,
             "learn": [
              189348.008
             ],
             "passed_time": 45.89082006,
             "remaining_time": 287.4565412,
             "test": [
              3730886.232
             ]
            },
            {
             "iteration": 413,
             "learn": [
              188077.9522
             ],
             "passed_time": 45.91317779,
             "remaining_time": 286.7910091,
             "test": [
              3730912.077
             ]
            },
            {
             "iteration": 414,
             "learn": [
              186733.138
             ],
             "passed_time": 46.06542939,
             "remaining_time": 286.9376747,
             "test": [
              3730934.286
             ]
            },
            {
             "iteration": 415,
             "learn": [
              185365.3478
             ],
             "passed_time": 46.41220549,
             "remaining_time": 288.2911995,
             "test": [
              3730914.968
             ]
            },
            {
             "iteration": 416,
             "learn": [
              184026.7813
             ],
             "passed_time": 46.77839665,
             "remaining_time": 289.756831,
             "test": [
              3730915.055
             ]
            },
            {
             "iteration": 417,
             "learn": [
              182641.4633
             ],
             "passed_time": 46.81536054,
             "remaining_time": 289.1800501,
             "test": [
              3730906.035
             ]
            },
            {
             "iteration": 418,
             "learn": [
              181250.3912
             ],
             "passed_time": 46.97216888,
             "remaining_time": 289.3440761,
             "test": [
              3730914.943
             ]
            },
            {
             "iteration": 419,
             "learn": [
              179933.683
             ],
             "passed_time": 47.11883935,
             "remaining_time": 289.4442989,
             "test": [
              3730905.058
             ]
            },
            {
             "iteration": 420,
             "learn": [
              178622.6245
             ],
             "passed_time": 47.43641151,
             "remaining_time": 290.5902738,
             "test": [
              3730919.981
             ]
            },
            {
             "iteration": 421,
             "learn": [
              177461.9853
             ],
             "passed_time": 47.60217569,
             "remaining_time": 290.8019169,
             "test": [
              3730923.166
             ]
            },
            {
             "iteration": 422,
             "learn": [
              176424.6993
             ],
             "passed_time": 47.69109798,
             "remaining_time": 290.5436394,
             "test": [
              3731300.185
             ]
            },
            {
             "iteration": 423,
             "learn": [
              175159.4538
             ],
             "passed_time": 48.0418112,
             "remaining_time": 291.8766643,
             "test": [
              3730996.051
             ]
            },
            {
             "iteration": 424,
             "learn": [
              173875.426
             ],
             "passed_time": 48.35400076,
             "remaining_time": 292.9683576,
             "test": [
              3730912.759
             ]
            },
            {
             "iteration": 425,
             "learn": [
              172537.3734
             ],
             "passed_time": 48.67798895,
             "remaining_time": 294.1247501,
             "test": [
              3731098.282
             ]
            },
            {
             "iteration": 426,
             "learn": [
              171297.6247
             ],
             "passed_time": 49.0164209,
             "remaining_time": 295.3612435,
             "test": [
              3731162.197
             ]
            },
            {
             "iteration": 427,
             "learn": [
              170016.7735
             ],
             "passed_time": 49.09510557,
             "remaining_time": 295.0294662,
             "test": [
              3731156.989
             ]
            },
            {
             "iteration": 428,
             "learn": [
              168810.9924
             ],
             "passed_time": 49.24473225,
             "remaining_time": 295.1240248,
             "test": [
              3731185.004
             ]
            },
            {
             "iteration": 429,
             "learn": [
              167604.4058
             ],
             "passed_time": 49.32616496,
             "remaining_time": 294.8098696,
             "test": [
              3731261.658
             ]
            },
            {
             "iteration": 430,
             "learn": [
              166703.4898
             ],
             "passed_time": 49.36851591,
             "remaining_time": 294.2638454,
             "test": [
              3731299.643
             ]
            },
            {
             "iteration": 431,
             "learn": [
              165771.7938
             ],
             "passed_time": 49.73051678,
             "remaining_time": 295.6202942,
             "test": [
              3731336.433
             ]
            },
            {
             "iteration": 432,
             "learn": [
              164561.0013
             ],
             "passed_time": 49.89415538,
             "remaining_time": 295.7928334,
             "test": [
              3731318.337
             ]
            },
            {
             "iteration": 433,
             "learn": [
              163570.231
             ],
             "passed_time": 49.93553039,
             "remaining_time": 295.240947,
             "test": [
              3731363.938
             ]
            },
            {
             "iteration": 434,
             "learn": [
              162459.5701
             ],
             "passed_time": 50.10136902,
             "remaining_time": 295.4253139,
             "test": [
              3731370.523
             ]
            },
            {
             "iteration": 435,
             "learn": [
              161405.331
             ],
             "passed_time": 50.44305018,
             "remaining_time": 296.6421575,
             "test": [
              3731449.222
             ]
            },
            {
             "iteration": 436,
             "learn": [
              160370.039
             ],
             "passed_time": 50.46501422,
             "remaining_time": 295.976731,
             "test": [
              3731130.576
             ]
            },
            {
             "iteration": 437,
             "learn": [
              159620.3019
             ],
             "passed_time": 50.53412485,
             "remaining_time": 295.590018,
             "test": [
              3731021.401
             ]
            },
            {
             "iteration": 438,
             "learn": [
              158631.1065
             ],
             "passed_time": 50.68719822,
             "remaining_time": 295.6945664,
             "test": [
              3730994.318
             ]
            },
            {
             "iteration": 439,
             "learn": [
              157484.3278
             ],
             "passed_time": 50.85378287,
             "remaining_time": 295.8765549,
             "test": [
              3731019.081
             ]
            },
            {
             "iteration": 440,
             "learn": [
              156422.2248
             ],
             "passed_time": 51.02268242,
             "remaining_time": 296.0703953,
             "test": [
              3731060.736
             ]
            },
            {
             "iteration": 441,
             "learn": [
              155383.6343
             ],
             "passed_time": 51.22206837,
             "remaining_time": 296.4390292,
             "test": [
              3731054.774
             ]
            },
            {
             "iteration": 442,
             "learn": [
              154223.305
             ],
             "passed_time": 51.32762923,
             "remaining_time": 296.2635394,
             "test": [
              3731090.59
             ]
            },
            {
             "iteration": 443,
             "learn": [
              153298.1871
             ],
             "passed_time": 51.38114271,
             "remaining_time": 295.7887404,
             "test": [
              3731133.304
             ]
            },
            {
             "iteration": 444,
             "learn": [
              152229.8903
             ],
             "passed_time": 51.59464258,
             "remaining_time": 296.2344085,
             "test": [
              3731174.476
             ]
            },
            {
             "iteration": 445,
             "learn": [
              151105.7513
             ],
             "passed_time": 51.79087665,
             "remaining_time": 296.5782488,
             "test": [
              3731231.794
             ]
            },
            {
             "iteration": 446,
             "learn": [
              150102.3751
             ],
             "passed_time": 51.81621948,
             "remaining_time": 295.9436428,
             "test": [
              3731311.046
             ]
            },
            {
             "iteration": 447,
             "learn": [
              149037.7985
             ],
             "passed_time": 51.92467206,
             "remaining_time": 295.7851855,
             "test": [
              3731361.255
             ]
            },
            {
             "iteration": 448,
             "learn": [
              148111.7867
             ],
             "passed_time": 52.38113017,
             "remaining_time": 297.6041494,
             "test": [
              3731364.564
             ]
            },
            {
             "iteration": 449,
             "learn": [
              147182.9561
             ],
             "passed_time": 52.40097569,
             "remaining_time": 296.9388622,
             "test": [
              3731363.023
             ]
            },
            {
             "iteration": 450,
             "learn": [
              146126.0446
             ],
             "passed_time": 52.7019827,
             "remaining_time": 297.8655297,
             "test": [
              3731327.732
             ]
            },
            {
             "iteration": 451,
             "learn": [
              145302.8795
             ],
             "passed_time": 52.79107928,
             "remaining_time": 297.5921903,
             "test": [
              3731439.633
             ]
            },
            {
             "iteration": 452,
             "learn": [
              144318.3278
             ],
             "passed_time": 52.84854662,
             "remaining_time": 297.1418283,
             "test": [
              3731490.943
             ]
            },
            {
             "iteration": 453,
             "learn": [
              143292.9917
             ],
             "passed_time": 53.03325722,
             "remaining_time": 297.4067685,
             "test": [
              3731534.536
             ]
            },
            {
             "iteration": 454,
             "learn": [
              142246.6415
             ],
             "passed_time": 53.38990964,
             "remaining_time": 298.6314726,
             "test": [
              3731537.218
             ]
            },
            {
             "iteration": 455,
             "learn": [
              141245.6069
             ],
             "passed_time": 53.55352367,
             "remaining_time": 298.77229,
             "test": [
              3731371.58
             ]
            },
            {
             "iteration": 456,
             "learn": [
              140298.4733
             ],
             "passed_time": 53.58971771,
             "remaining_time": 298.2027399,
             "test": [
              3731390.988
             ]
            },
            {
             "iteration": 457,
             "learn": [
              139379.2697
             ],
             "passed_time": 53.62655536,
             "remaining_time": 297.6390911,
             "test": [
              3730989.738
             ]
            },
            {
             "iteration": 458,
             "learn": [
              138452.5191
             ],
             "passed_time": 53.77690351,
             "remaining_time": 297.706126,
             "test": [
              3731056.493
             ]
            },
            {
             "iteration": 459,
             "learn": [
              137470.5236
             ],
             "passed_time": 54.11348539,
             "remaining_time": 298.8005497,
             "test": [
              3731057.596
             ]
            },
            {
             "iteration": 460,
             "learn": [
              136552.3134
             ],
             "passed_time": 54.46805643,
             "remaining_time": 299.9878422,
             "test": [
              3731095.261
             ]
            },
            {
             "iteration": 461,
             "learn": [
              136293.8109
             ],
             "passed_time": 54.54087365,
             "remaining_time": 299.6206436,
             "test": [
              3731144.428
             ]
            },
            {
             "iteration": 462,
             "learn": [
              135314.6935
             ],
             "passed_time": 54.9020858,
             "remaining_time": 300.8349712,
             "test": [
              3731147.055
             ]
            },
            {
             "iteration": 463,
             "learn": [
              134337.1359
             ],
             "passed_time": 55.22114694,
             "remaining_time": 301.8121307,
             "test": [
              3731243.633
             ]
            },
            {
             "iteration": 464,
             "learn": [
              133393.9812
             ],
             "passed_time": 55.57561694,
             "remaining_time": 302.9767504,
             "test": [
              3731240.461
             ]
            },
            {
             "iteration": 465,
             "learn": [
              132415.9603
             ],
             "passed_time": 55.65780245,
             "remaining_time": 302.6542305,
             "test": [
              3731283.454
             ]
            },
            {
             "iteration": 466,
             "learn": [
              131549.3076
             ],
             "passed_time": 55.73519548,
             "remaining_time": 302.3067455,
             "test": [
              3731228.159
             ]
            },
            {
             "iteration": 467,
             "learn": [
              130607.6384
             ],
             "passed_time": 55.82929872,
             "remaining_time": 302.0508213,
             "test": [
              3731262.837
             ]
            },
            {
             "iteration": 468,
             "learn": [
              129668.766
             ],
             "passed_time": 55.87242804,
             "remaining_time": 301.5205019,
             "test": [
              3731304.48
             ]
            },
            {
             "iteration": 469,
             "learn": [
              129458.3222
             ],
             "passed_time": 55.8767781,
             "remaining_time": 300.7835077,
             "test": [
              3731413.271
             ]
            },
            {
             "iteration": 470,
             "learn": [
              128507.3226
             ],
             "passed_time": 55.94637995,
             "remaining_time": 300.3999892,
             "test": [
              3731390.612
             ]
            },
            {
             "iteration": 471,
             "learn": [
              127614.8341
             ],
             "passed_time": 56.10914304,
             "remaining_time": 300.5167661,
             "test": [
              3731403.516
             ]
            },
            {
             "iteration": 472,
             "learn": [
              126643.2467
             ],
             "passed_time": 56.19021749,
             "remaining_time": 300.19594,
             "test": [
              3731500.369
             ]
            }
           ],
           "meta": {
            "iteration_count": 3000,
            "launch_mode": "Train",
            "learn_metrics": [
             {
              "best_value": "Min",
              "name": "RMSE"
             }
            ],
            "learn_sets": [
             "learn"
            ],
            "name": "experiment",
            "parameters": "",
            "test_metrics": [
             {
              "best_value": "Min",
              "name": "RMSE"
             }
            ],
            "test_sets": [
             "test"
            ]
           }
          },
          "passed_iterations": 472,
          "total_iterations": 3000
         },
         "name": "catboost_info",
         "path": "catboost_info"
        }
       },
       "layout": "IPY_MODEL_fc068d0d849d44d0989e4fefba85f8a9"
      }
     },
     "fc068d0d849d44d0989e4fefba85f8a9": {
      "model_module": "@jupyter-widgets/base",
      "model_module_version": "1.2.0",
      "model_name": "LayoutModel",
      "state": {
       "_model_module": "@jupyter-widgets/base",
       "_model_module_version": "1.2.0",
       "_model_name": "LayoutModel",
       "_view_count": null,
       "_view_module": "@jupyter-widgets/base",
       "_view_module_version": "1.2.0",
       "_view_name": "LayoutView",
       "align_content": null,
       "align_items": null,
       "align_self": "stretch",
       "border": null,
       "bottom": null,
       "display": null,
       "flex": null,
       "flex_flow": null,
       "grid_area": null,
       "grid_auto_columns": null,
       "grid_auto_flow": null,
       "grid_auto_rows": null,
       "grid_column": null,
       "grid_gap": null,
       "grid_row": null,
       "grid_template_areas": null,
       "grid_template_columns": null,
       "grid_template_rows": null,
       "height": "500px",
       "justify_content": null,
       "justify_items": null,
       "left": null,
       "margin": null,
       "max_height": null,
       "max_width": null,
       "min_height": null,
       "min_width": null,
       "object_fit": null,
       "object_position": null,
       "order": null,
       "overflow": null,
       "overflow_x": null,
       "overflow_y": null,
       "padding": null,
       "right": null,
       "top": null,
       "visibility": null,
       "width": null
      }
     }
    },
    "version_major": 2,
    "version_minor": 0
   }
  }
 },
 "nbformat": 4,
 "nbformat_minor": 5
}