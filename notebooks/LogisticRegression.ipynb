{
 "metadata": {
  "kernelspec": {
   "language": "python",
   "display_name": "Python 3",
   "name": "python3"
  },
  "language_info": {
   "name": "python",
   "version": "3.7.12",
   "mimetype": "text/x-python",
   "codemirror_mode": {
    "name": "ipython",
    "version": 3
   },
   "pygments_lexer": "ipython3",
   "nbconvert_exporter": "python",
   "file_extension": ".py"
  }
 },
 "nbformat_minor": 4,
 "nbformat": 4,
 "cells": [
  {
   "cell_type": "code",
   "source": [
    "# This Python 3 environment comes with many helpful analytics libraries installed\n",
    "# It is defined by the kaggle/python Docker image: https://github.com/kaggle/docker-python\n",
    "# For example, here's several helpful packages to load\n",
    "\n",
    "import numpy as np # linear algebra\n",
    "import pandas as pd # data processing, CSV file I/O (e.g. pd.read_csv)\n",
    "\n",
    "# Input data files are available in the read-only \"../input/\" directory\n",
    "# For example, running this (by clicking run or pressing Shift+Enter) will list all files under the input directory\n",
    "\n",
    "import os\n",
    "for dirname, _, filenames in os.walk('/kaggle/input'):\n",
    "    for filename in filenames:\n",
    "        print(os.path.join(dirname, filename))\n",
    "\n",
    "# You can write up to 20GB to the current directory (/kaggle/working/) that gets preserved as output when you create a version using \"Save & Run All\" \n",
    "# You can also write temporary files to /kaggle/temp/, but they won't be saved outside of the current session"
   ],
   "metadata": {
    "_uuid": "8f2839f25d086af736a60e9eeb907d3b93b6e0e5",
    "_cell_guid": "b1076dfc-b9ad-4769-8c92-a6c4dae69d19",
    "execution": {
     "iopub.status.busy": "2021-12-17T17:18:43.615872Z",
     "iopub.execute_input": "2021-12-17T17:18:43.616132Z",
     "iopub.status.idle": "2021-12-17T17:18:43.627850Z",
     "shell.execute_reply.started": "2021-12-17T17:18:43.616103Z",
     "shell.execute_reply": "2021-12-17T17:18:43.626734Z"
    },
    "trusted": true
   },
   "execution_count": 2,
   "outputs": []
  },
  {
   "cell_type": "code",
   "source": [
    "from sklearn.linear_model import LogisticRegression"
   ],
   "metadata": {
    "execution": {
     "iopub.status.busy": "2021-12-17T17:18:42.428890Z",
     "iopub.execute_input": "2021-12-17T17:18:42.429305Z",
     "iopub.status.idle": "2021-12-17T17:18:43.613747Z",
     "shell.execute_reply.started": "2021-12-17T17:18:42.429205Z",
     "shell.execute_reply": "2021-12-17T17:18:43.612736Z"
    },
    "trusted": true
   },
   "execution_count": 3,
   "outputs": []
  },
  {
   "cell_type": "code",
   "source": [
    "df = pd.read_csv('../data/train.csv')"
   ],
   "metadata": {
    "execution": {
     "iopub.status.busy": "2021-12-17T17:18:43.629347Z",
     "iopub.execute_input": "2021-12-17T17:18:43.630333Z",
     "iopub.status.idle": "2021-12-17T17:18:43.665654Z",
     "shell.execute_reply.started": "2021-12-17T17:18:43.630294Z",
     "shell.execute_reply": "2021-12-17T17:18:43.664658Z"
    },
    "trusted": true
   },
   "execution_count": 4,
   "outputs": []
  },
  {
   "cell_type": "code",
   "source": [
    "test = pd.read_csv('../data/test.csv')"
   ],
   "metadata": {
    "execution": {
     "iopub.status.busy": "2021-12-17T17:18:43.667653Z",
     "iopub.execute_input": "2021-12-17T17:18:43.667871Z",
     "iopub.status.idle": "2021-12-17T17:18:44.303419Z",
     "shell.execute_reply.started": "2021-12-17T17:18:43.667845Z",
     "shell.execute_reply": "2021-12-17T17:18:44.302398Z"
    },
    "trusted": true
   },
   "execution_count": 5,
   "outputs": []
  },
  {
   "cell_type": "code",
   "source": [
    "test"
   ],
   "metadata": {
    "execution": {
     "iopub.status.busy": "2021-12-17T17:18:44.305414Z",
     "iopub.execute_input": "2021-12-17T17:18:44.305727Z",
     "iopub.status.idle": "2021-12-17T17:18:44.380770Z",
     "shell.execute_reply.started": "2021-12-17T17:18:44.305686Z",
     "shell.execute_reply": "2021-12-17T17:18:44.380134Z"
    },
    "trusted": true
   },
   "execution_count": 6,
   "outputs": [
    {
     "data": {
      "text/plain": "          Id   Open Date            City  City Group Type  P1   P2   P3   P4  \\\n0          0  01/22/2011           Niğde       Other   FC   1  4.0  4.0  4.0   \n1          1  03/18/2011           Konya       Other   IL   3  4.0  4.0  4.0   \n2          2  10/30/2013          Ankara  Big Cities   FC   3  4.0  4.0  4.0   \n3          3  05/06/2013         Kocaeli       Other   IL   2  4.0  4.0  4.0   \n4          4  07/31/2013  Afyonkarahisar       Other   FC   2  4.0  4.0  4.0   \n...      ...         ...             ...         ...  ...  ..  ...  ...  ...   \n99995  99995  01/05/2000         Antalya       Other   FC   5  5.0  4.0  4.0   \n99996  99996  07/18/2011           Niğde       Other   IL   1  2.0  4.0  3.0   \n99997  99997  12/29/2012        İstanbul  Big Cities   IL   4  5.0  4.0  4.0   \n99998  99998  10/12/2013        İstanbul  Big Cities   FC  12  7.5  6.0  6.0   \n99999  99999  10/05/2010        İstanbul  Big Cities   IL   2  5.0  4.0  4.0   \n\n       P5  ...  P28  P29  P30  P31  P32  P33  P34  P35  P36  P37  \n0       1  ...  2.0  3.0    0    0    0    0    0    0    0    0  \n1       2  ...  1.0  3.0    0    0    0    0    0    0    0    0  \n2       2  ...  2.0  3.0    0    0    0    0    0    0    0    0  \n3       2  ...  2.0  3.0    0    4    0    0    0    0    0    0  \n4       1  ...  5.0  3.0    0    0    0    0    0    0    0    0  \n...    ..  ...  ...  ...  ...  ...  ...  ...  ...  ...  ...  ...  \n99995   2  ...  2.0  3.0    0    0    0    0    0    0    0    0  \n99996   1  ...  1.0  3.0    5    0    0    0    4    0    0    0  \n99997   1  ...  4.0  1.0    5    5    3    2    4    4    4    2  \n99998   4  ...  7.5  5.0    0    0    0    4    0    0    0    0  \n99999   2  ...  5.0  3.0    0    2    0    2    2    4    2    0  \n\n[100000 rows x 42 columns]",
      "text/html": "<div>\n<style scoped>\n    .dataframe tbody tr th:only-of-type {\n        vertical-align: middle;\n    }\n\n    .dataframe tbody tr th {\n        vertical-align: top;\n    }\n\n    .dataframe thead th {\n        text-align: right;\n    }\n</style>\n<table border=\"1\" class=\"dataframe\">\n  <thead>\n    <tr style=\"text-align: right;\">\n      <th></th>\n      <th>Id</th>\n      <th>Open Date</th>\n      <th>City</th>\n      <th>City Group</th>\n      <th>Type</th>\n      <th>P1</th>\n      <th>P2</th>\n      <th>P3</th>\n      <th>P4</th>\n      <th>P5</th>\n      <th>...</th>\n      <th>P28</th>\n      <th>P29</th>\n      <th>P30</th>\n      <th>P31</th>\n      <th>P32</th>\n      <th>P33</th>\n      <th>P34</th>\n      <th>P35</th>\n      <th>P36</th>\n      <th>P37</th>\n    </tr>\n  </thead>\n  <tbody>\n    <tr>\n      <th>0</th>\n      <td>0</td>\n      <td>01/22/2011</td>\n      <td>Niğde</td>\n      <td>Other</td>\n      <td>FC</td>\n      <td>1</td>\n      <td>4.0</td>\n      <td>4.0</td>\n      <td>4.0</td>\n      <td>1</td>\n      <td>...</td>\n      <td>2.0</td>\n      <td>3.0</td>\n      <td>0</td>\n      <td>0</td>\n      <td>0</td>\n      <td>0</td>\n      <td>0</td>\n      <td>0</td>\n      <td>0</td>\n      <td>0</td>\n    </tr>\n    <tr>\n      <th>1</th>\n      <td>1</td>\n      <td>03/18/2011</td>\n      <td>Konya</td>\n      <td>Other</td>\n      <td>IL</td>\n      <td>3</td>\n      <td>4.0</td>\n      <td>4.0</td>\n      <td>4.0</td>\n      <td>2</td>\n      <td>...</td>\n      <td>1.0</td>\n      <td>3.0</td>\n      <td>0</td>\n      <td>0</td>\n      <td>0</td>\n      <td>0</td>\n      <td>0</td>\n      <td>0</td>\n      <td>0</td>\n      <td>0</td>\n    </tr>\n    <tr>\n      <th>2</th>\n      <td>2</td>\n      <td>10/30/2013</td>\n      <td>Ankara</td>\n      <td>Big Cities</td>\n      <td>FC</td>\n      <td>3</td>\n      <td>4.0</td>\n      <td>4.0</td>\n      <td>4.0</td>\n      <td>2</td>\n      <td>...</td>\n      <td>2.0</td>\n      <td>3.0</td>\n      <td>0</td>\n      <td>0</td>\n      <td>0</td>\n      <td>0</td>\n      <td>0</td>\n      <td>0</td>\n      <td>0</td>\n      <td>0</td>\n    </tr>\n    <tr>\n      <th>3</th>\n      <td>3</td>\n      <td>05/06/2013</td>\n      <td>Kocaeli</td>\n      <td>Other</td>\n      <td>IL</td>\n      <td>2</td>\n      <td>4.0</td>\n      <td>4.0</td>\n      <td>4.0</td>\n      <td>2</td>\n      <td>...</td>\n      <td>2.0</td>\n      <td>3.0</td>\n      <td>0</td>\n      <td>4</td>\n      <td>0</td>\n      <td>0</td>\n      <td>0</td>\n      <td>0</td>\n      <td>0</td>\n      <td>0</td>\n    </tr>\n    <tr>\n      <th>4</th>\n      <td>4</td>\n      <td>07/31/2013</td>\n      <td>Afyonkarahisar</td>\n      <td>Other</td>\n      <td>FC</td>\n      <td>2</td>\n      <td>4.0</td>\n      <td>4.0</td>\n      <td>4.0</td>\n      <td>1</td>\n      <td>...</td>\n      <td>5.0</td>\n      <td>3.0</td>\n      <td>0</td>\n      <td>0</td>\n      <td>0</td>\n      <td>0</td>\n      <td>0</td>\n      <td>0</td>\n      <td>0</td>\n      <td>0</td>\n    </tr>\n    <tr>\n      <th>...</th>\n      <td>...</td>\n      <td>...</td>\n      <td>...</td>\n      <td>...</td>\n      <td>...</td>\n      <td>...</td>\n      <td>...</td>\n      <td>...</td>\n      <td>...</td>\n      <td>...</td>\n      <td>...</td>\n      <td>...</td>\n      <td>...</td>\n      <td>...</td>\n      <td>...</td>\n      <td>...</td>\n      <td>...</td>\n      <td>...</td>\n      <td>...</td>\n      <td>...</td>\n      <td>...</td>\n    </tr>\n    <tr>\n      <th>99995</th>\n      <td>99995</td>\n      <td>01/05/2000</td>\n      <td>Antalya</td>\n      <td>Other</td>\n      <td>FC</td>\n      <td>5</td>\n      <td>5.0</td>\n      <td>4.0</td>\n      <td>4.0</td>\n      <td>2</td>\n      <td>...</td>\n      <td>2.0</td>\n      <td>3.0</td>\n      <td>0</td>\n      <td>0</td>\n      <td>0</td>\n      <td>0</td>\n      <td>0</td>\n      <td>0</td>\n      <td>0</td>\n      <td>0</td>\n    </tr>\n    <tr>\n      <th>99996</th>\n      <td>99996</td>\n      <td>07/18/2011</td>\n      <td>Niğde</td>\n      <td>Other</td>\n      <td>IL</td>\n      <td>1</td>\n      <td>2.0</td>\n      <td>4.0</td>\n      <td>3.0</td>\n      <td>1</td>\n      <td>...</td>\n      <td>1.0</td>\n      <td>3.0</td>\n      <td>5</td>\n      <td>0</td>\n      <td>0</td>\n      <td>0</td>\n      <td>4</td>\n      <td>0</td>\n      <td>0</td>\n      <td>0</td>\n    </tr>\n    <tr>\n      <th>99997</th>\n      <td>99997</td>\n      <td>12/29/2012</td>\n      <td>İstanbul</td>\n      <td>Big Cities</td>\n      <td>IL</td>\n      <td>4</td>\n      <td>5.0</td>\n      <td>4.0</td>\n      <td>4.0</td>\n      <td>1</td>\n      <td>...</td>\n      <td>4.0</td>\n      <td>1.0</td>\n      <td>5</td>\n      <td>5</td>\n      <td>3</td>\n      <td>2</td>\n      <td>4</td>\n      <td>4</td>\n      <td>4</td>\n      <td>2</td>\n    </tr>\n    <tr>\n      <th>99998</th>\n      <td>99998</td>\n      <td>10/12/2013</td>\n      <td>İstanbul</td>\n      <td>Big Cities</td>\n      <td>FC</td>\n      <td>12</td>\n      <td>7.5</td>\n      <td>6.0</td>\n      <td>6.0</td>\n      <td>4</td>\n      <td>...</td>\n      <td>7.5</td>\n      <td>5.0</td>\n      <td>0</td>\n      <td>0</td>\n      <td>0</td>\n      <td>4</td>\n      <td>0</td>\n      <td>0</td>\n      <td>0</td>\n      <td>0</td>\n    </tr>\n    <tr>\n      <th>99999</th>\n      <td>99999</td>\n      <td>10/05/2010</td>\n      <td>İstanbul</td>\n      <td>Big Cities</td>\n      <td>IL</td>\n      <td>2</td>\n      <td>5.0</td>\n      <td>4.0</td>\n      <td>4.0</td>\n      <td>2</td>\n      <td>...</td>\n      <td>5.0</td>\n      <td>3.0</td>\n      <td>0</td>\n      <td>2</td>\n      <td>0</td>\n      <td>2</td>\n      <td>2</td>\n      <td>4</td>\n      <td>2</td>\n      <td>0</td>\n    </tr>\n  </tbody>\n</table>\n<p>100000 rows × 42 columns</p>\n</div>"
     },
     "execution_count": 6,
     "metadata": {},
     "output_type": "execute_result"
    }
   ]
  },
  {
   "cell_type": "code",
   "source": [
    "df.describe().T"
   ],
   "metadata": {
    "execution": {
     "iopub.status.busy": "2021-12-17T17:18:44.381833Z",
     "iopub.execute_input": "2021-12-17T17:18:44.382579Z",
     "iopub.status.idle": "2021-12-17T17:18:44.505231Z",
     "shell.execute_reply.started": "2021-12-17T17:18:44.382545Z",
     "shell.execute_reply": "2021-12-17T17:18:44.504218Z"
    },
    "trusted": true
   },
   "execution_count": 7,
   "outputs": [
    {
     "data": {
      "text/plain": "         count          mean           std        min        25%        50%  \\\nId       137.0  6.800000e+01  3.969257e+01        0.0       34.0       68.0   \nP1       137.0  4.014599e+00  2.910391e+00        1.0        2.0        3.0   \nP2       137.0  4.408759e+00  1.514900e+00        1.0        4.0        5.0   \nP3       137.0  4.317518e+00  1.032337e+00        0.0        4.0        4.0   \nP4       137.0  4.372263e+00  1.016462e+00        3.0        4.0        4.0   \nP5       137.0  2.007299e+00  1.209620e+00        1.0        1.0        2.0   \nP6       137.0  3.357664e+00  2.134235e+00        1.0        2.0        3.0   \nP7       137.0  5.423358e+00  2.296809e+00        1.0        5.0        5.0   \nP8       137.0  5.153285e+00  1.858567e+00        1.0        4.0        5.0   \nP9       137.0  5.445255e+00  1.834793e+00        4.0        4.0        5.0   \nP10      137.0  5.489051e+00  1.847561e+00        4.0        5.0        5.0   \nP11      137.0  3.262774e+00  1.910767e+00        1.0        2.0        3.0   \nP12      137.0  5.299270e+00  1.941668e+00        2.0        4.0        5.0   \nP13      137.0  5.080292e+00  1.036527e+00        3.0        5.0        5.0   \nP14      137.0  1.416058e+00  2.729583e+00        0.0        0.0        0.0   \nP15      137.0  1.386861e+00  2.398677e+00        0.0        0.0        0.0   \nP16      137.0  1.941606e+00  3.505807e+00        0.0        0.0        0.0   \nP17      137.0  1.036496e+00  2.030679e+00        0.0        0.0        0.0   \nP18      137.0  1.941606e+00  3.300549e+00        0.0        0.0        0.0   \nP19      137.0  4.905109e+00  5.604467e+00        1.0        2.0        3.0   \nP20      137.0  4.547445e+00  3.708041e+00        1.0        2.0        4.0   \nP21      137.0  2.270073e+00  2.052630e+00        1.0        1.0        1.0   \nP22      137.0  2.226277e+00  1.230690e+00        1.0        1.0        2.0   \nP23      137.0  3.423358e+00  4.559609e+00        1.0        1.0        2.0   \nP24      137.0  1.372263e+00  2.304112e+00        0.0        0.0        0.0   \nP25      137.0  1.211679e+00  2.133179e+00        0.0        0.0        0.0   \nP26      137.0  1.470803e+00  2.612024e+00        0.0        0.0        0.0   \nP27      137.0  1.145985e+00  2.067039e+00        0.0        0.0        0.0   \nP28      137.0  3.222628e+00  2.308806e+00        1.0        2.0        2.5   \nP29      137.0  3.135036e+00  1.680887e+00        0.0        2.5        3.0   \nP30      137.0  2.729927e+00  5.536647e+00        0.0        0.0        0.0   \nP31      137.0  1.941606e+00  3.512093e+00        0.0        0.0        0.0   \nP32      137.0  2.525547e+00  5.230117e+00        0.0        0.0        0.0   \nP33      137.0  1.138686e+00  1.698540e+00        0.0        0.0        0.0   \nP34      137.0  2.489051e+00  5.165093e+00        0.0        0.0        0.0   \nP35      137.0  2.029197e+00  3.436272e+00        0.0        0.0        0.0   \nP36      137.0  2.211679e+00  4.168211e+00        0.0        0.0        0.0   \nP37      137.0  1.116788e+00  1.790768e+00        0.0        0.0        0.0   \nrevenue  137.0  4.453533e+06  2.576072e+06  1149870.0  2999068.0  3939804.0   \n\n               75%         max  \nId           102.0       136.0  \nP1             4.0        12.0  \nP2             5.0         7.5  \nP3             5.0         7.5  \nP4             5.0         7.5  \nP5             2.0         8.0  \nP6             4.0        10.0  \nP7             5.0        10.0  \nP8             5.0        10.0  \nP9             5.0        10.0  \nP10            5.0        10.0  \nP11            4.0        10.0  \nP12            5.0        10.0  \nP13            5.0         7.5  \nP14            2.0        15.0  \nP15            2.0        10.0  \nP16            3.0        15.0  \nP17            1.0        15.0  \nP18            4.0        12.0  \nP19            5.0        25.0  \nP20            5.0        15.0  \nP21            3.0        15.0  \nP22            3.0         5.0  \nP23            5.0        25.0  \nP24            2.0        10.0  \nP25            2.0        10.0  \nP26            2.5        12.5  \nP27            2.0        12.5  \nP28            4.0        12.5  \nP29            3.0         7.5  \nP30            4.0        25.0  \nP31            3.0        15.0  \nP32            3.0        25.0  \nP33            2.0         6.0  \nP34            3.0        24.0  \nP35            4.0        15.0  \nP36            3.0        20.0  \nP37            2.0         8.0  \nrevenue  5166635.0  19696939.0  ",
      "text/html": "<div>\n<style scoped>\n    .dataframe tbody tr th:only-of-type {\n        vertical-align: middle;\n    }\n\n    .dataframe tbody tr th {\n        vertical-align: top;\n    }\n\n    .dataframe thead th {\n        text-align: right;\n    }\n</style>\n<table border=\"1\" class=\"dataframe\">\n  <thead>\n    <tr style=\"text-align: right;\">\n      <th></th>\n      <th>count</th>\n      <th>mean</th>\n      <th>std</th>\n      <th>min</th>\n      <th>25%</th>\n      <th>50%</th>\n      <th>75%</th>\n      <th>max</th>\n    </tr>\n  </thead>\n  <tbody>\n    <tr>\n      <th>Id</th>\n      <td>137.0</td>\n      <td>6.800000e+01</td>\n      <td>3.969257e+01</td>\n      <td>0.0</td>\n      <td>34.0</td>\n      <td>68.0</td>\n      <td>102.0</td>\n      <td>136.0</td>\n    </tr>\n    <tr>\n      <th>P1</th>\n      <td>137.0</td>\n      <td>4.014599e+00</td>\n      <td>2.910391e+00</td>\n      <td>1.0</td>\n      <td>2.0</td>\n      <td>3.0</td>\n      <td>4.0</td>\n      <td>12.0</td>\n    </tr>\n    <tr>\n      <th>P2</th>\n      <td>137.0</td>\n      <td>4.408759e+00</td>\n      <td>1.514900e+00</td>\n      <td>1.0</td>\n      <td>4.0</td>\n      <td>5.0</td>\n      <td>5.0</td>\n      <td>7.5</td>\n    </tr>\n    <tr>\n      <th>P3</th>\n      <td>137.0</td>\n      <td>4.317518e+00</td>\n      <td>1.032337e+00</td>\n      <td>0.0</td>\n      <td>4.0</td>\n      <td>4.0</td>\n      <td>5.0</td>\n      <td>7.5</td>\n    </tr>\n    <tr>\n      <th>P4</th>\n      <td>137.0</td>\n      <td>4.372263e+00</td>\n      <td>1.016462e+00</td>\n      <td>3.0</td>\n      <td>4.0</td>\n      <td>4.0</td>\n      <td>5.0</td>\n      <td>7.5</td>\n    </tr>\n    <tr>\n      <th>P5</th>\n      <td>137.0</td>\n      <td>2.007299e+00</td>\n      <td>1.209620e+00</td>\n      <td>1.0</td>\n      <td>1.0</td>\n      <td>2.0</td>\n      <td>2.0</td>\n      <td>8.0</td>\n    </tr>\n    <tr>\n      <th>P6</th>\n      <td>137.0</td>\n      <td>3.357664e+00</td>\n      <td>2.134235e+00</td>\n      <td>1.0</td>\n      <td>2.0</td>\n      <td>3.0</td>\n      <td>4.0</td>\n      <td>10.0</td>\n    </tr>\n    <tr>\n      <th>P7</th>\n      <td>137.0</td>\n      <td>5.423358e+00</td>\n      <td>2.296809e+00</td>\n      <td>1.0</td>\n      <td>5.0</td>\n      <td>5.0</td>\n      <td>5.0</td>\n      <td>10.0</td>\n    </tr>\n    <tr>\n      <th>P8</th>\n      <td>137.0</td>\n      <td>5.153285e+00</td>\n      <td>1.858567e+00</td>\n      <td>1.0</td>\n      <td>4.0</td>\n      <td>5.0</td>\n      <td>5.0</td>\n      <td>10.0</td>\n    </tr>\n    <tr>\n      <th>P9</th>\n      <td>137.0</td>\n      <td>5.445255e+00</td>\n      <td>1.834793e+00</td>\n      <td>4.0</td>\n      <td>4.0</td>\n      <td>5.0</td>\n      <td>5.0</td>\n      <td>10.0</td>\n    </tr>\n    <tr>\n      <th>P10</th>\n      <td>137.0</td>\n      <td>5.489051e+00</td>\n      <td>1.847561e+00</td>\n      <td>4.0</td>\n      <td>5.0</td>\n      <td>5.0</td>\n      <td>5.0</td>\n      <td>10.0</td>\n    </tr>\n    <tr>\n      <th>P11</th>\n      <td>137.0</td>\n      <td>3.262774e+00</td>\n      <td>1.910767e+00</td>\n      <td>1.0</td>\n      <td>2.0</td>\n      <td>3.0</td>\n      <td>4.0</td>\n      <td>10.0</td>\n    </tr>\n    <tr>\n      <th>P12</th>\n      <td>137.0</td>\n      <td>5.299270e+00</td>\n      <td>1.941668e+00</td>\n      <td>2.0</td>\n      <td>4.0</td>\n      <td>5.0</td>\n      <td>5.0</td>\n      <td>10.0</td>\n    </tr>\n    <tr>\n      <th>P13</th>\n      <td>137.0</td>\n      <td>5.080292e+00</td>\n      <td>1.036527e+00</td>\n      <td>3.0</td>\n      <td>5.0</td>\n      <td>5.0</td>\n      <td>5.0</td>\n      <td>7.5</td>\n    </tr>\n    <tr>\n      <th>P14</th>\n      <td>137.0</td>\n      <td>1.416058e+00</td>\n      <td>2.729583e+00</td>\n      <td>0.0</td>\n      <td>0.0</td>\n      <td>0.0</td>\n      <td>2.0</td>\n      <td>15.0</td>\n    </tr>\n    <tr>\n      <th>P15</th>\n      <td>137.0</td>\n      <td>1.386861e+00</td>\n      <td>2.398677e+00</td>\n      <td>0.0</td>\n      <td>0.0</td>\n      <td>0.0</td>\n      <td>2.0</td>\n      <td>10.0</td>\n    </tr>\n    <tr>\n      <th>P16</th>\n      <td>137.0</td>\n      <td>1.941606e+00</td>\n      <td>3.505807e+00</td>\n      <td>0.0</td>\n      <td>0.0</td>\n      <td>0.0</td>\n      <td>3.0</td>\n      <td>15.0</td>\n    </tr>\n    <tr>\n      <th>P17</th>\n      <td>137.0</td>\n      <td>1.036496e+00</td>\n      <td>2.030679e+00</td>\n      <td>0.0</td>\n      <td>0.0</td>\n      <td>0.0</td>\n      <td>1.0</td>\n      <td>15.0</td>\n    </tr>\n    <tr>\n      <th>P18</th>\n      <td>137.0</td>\n      <td>1.941606e+00</td>\n      <td>3.300549e+00</td>\n      <td>0.0</td>\n      <td>0.0</td>\n      <td>0.0</td>\n      <td>4.0</td>\n      <td>12.0</td>\n    </tr>\n    <tr>\n      <th>P19</th>\n      <td>137.0</td>\n      <td>4.905109e+00</td>\n      <td>5.604467e+00</td>\n      <td>1.0</td>\n      <td>2.0</td>\n      <td>3.0</td>\n      <td>5.0</td>\n      <td>25.0</td>\n    </tr>\n    <tr>\n      <th>P20</th>\n      <td>137.0</td>\n      <td>4.547445e+00</td>\n      <td>3.708041e+00</td>\n      <td>1.0</td>\n      <td>2.0</td>\n      <td>4.0</td>\n      <td>5.0</td>\n      <td>15.0</td>\n    </tr>\n    <tr>\n      <th>P21</th>\n      <td>137.0</td>\n      <td>2.270073e+00</td>\n      <td>2.052630e+00</td>\n      <td>1.0</td>\n      <td>1.0</td>\n      <td>1.0</td>\n      <td>3.0</td>\n      <td>15.0</td>\n    </tr>\n    <tr>\n      <th>P22</th>\n      <td>137.0</td>\n      <td>2.226277e+00</td>\n      <td>1.230690e+00</td>\n      <td>1.0</td>\n      <td>1.0</td>\n      <td>2.0</td>\n      <td>3.0</td>\n      <td>5.0</td>\n    </tr>\n    <tr>\n      <th>P23</th>\n      <td>137.0</td>\n      <td>3.423358e+00</td>\n      <td>4.559609e+00</td>\n      <td>1.0</td>\n      <td>1.0</td>\n      <td>2.0</td>\n      <td>5.0</td>\n      <td>25.0</td>\n    </tr>\n    <tr>\n      <th>P24</th>\n      <td>137.0</td>\n      <td>1.372263e+00</td>\n      <td>2.304112e+00</td>\n      <td>0.0</td>\n      <td>0.0</td>\n      <td>0.0</td>\n      <td>2.0</td>\n      <td>10.0</td>\n    </tr>\n    <tr>\n      <th>P25</th>\n      <td>137.0</td>\n      <td>1.211679e+00</td>\n      <td>2.133179e+00</td>\n      <td>0.0</td>\n      <td>0.0</td>\n      <td>0.0</td>\n      <td>2.0</td>\n      <td>10.0</td>\n    </tr>\n    <tr>\n      <th>P26</th>\n      <td>137.0</td>\n      <td>1.470803e+00</td>\n      <td>2.612024e+00</td>\n      <td>0.0</td>\n      <td>0.0</td>\n      <td>0.0</td>\n      <td>2.5</td>\n      <td>12.5</td>\n    </tr>\n    <tr>\n      <th>P27</th>\n      <td>137.0</td>\n      <td>1.145985e+00</td>\n      <td>2.067039e+00</td>\n      <td>0.0</td>\n      <td>0.0</td>\n      <td>0.0</td>\n      <td>2.0</td>\n      <td>12.5</td>\n    </tr>\n    <tr>\n      <th>P28</th>\n      <td>137.0</td>\n      <td>3.222628e+00</td>\n      <td>2.308806e+00</td>\n      <td>1.0</td>\n      <td>2.0</td>\n      <td>2.5</td>\n      <td>4.0</td>\n      <td>12.5</td>\n    </tr>\n    <tr>\n      <th>P29</th>\n      <td>137.0</td>\n      <td>3.135036e+00</td>\n      <td>1.680887e+00</td>\n      <td>0.0</td>\n      <td>2.5</td>\n      <td>3.0</td>\n      <td>3.0</td>\n      <td>7.5</td>\n    </tr>\n    <tr>\n      <th>P30</th>\n      <td>137.0</td>\n      <td>2.729927e+00</td>\n      <td>5.536647e+00</td>\n      <td>0.0</td>\n      <td>0.0</td>\n      <td>0.0</td>\n      <td>4.0</td>\n      <td>25.0</td>\n    </tr>\n    <tr>\n      <th>P31</th>\n      <td>137.0</td>\n      <td>1.941606e+00</td>\n      <td>3.512093e+00</td>\n      <td>0.0</td>\n      <td>0.0</td>\n      <td>0.0</td>\n      <td>3.0</td>\n      <td>15.0</td>\n    </tr>\n    <tr>\n      <th>P32</th>\n      <td>137.0</td>\n      <td>2.525547e+00</td>\n      <td>5.230117e+00</td>\n      <td>0.0</td>\n      <td>0.0</td>\n      <td>0.0</td>\n      <td>3.0</td>\n      <td>25.0</td>\n    </tr>\n    <tr>\n      <th>P33</th>\n      <td>137.0</td>\n      <td>1.138686e+00</td>\n      <td>1.698540e+00</td>\n      <td>0.0</td>\n      <td>0.0</td>\n      <td>0.0</td>\n      <td>2.0</td>\n      <td>6.0</td>\n    </tr>\n    <tr>\n      <th>P34</th>\n      <td>137.0</td>\n      <td>2.489051e+00</td>\n      <td>5.165093e+00</td>\n      <td>0.0</td>\n      <td>0.0</td>\n      <td>0.0</td>\n      <td>3.0</td>\n      <td>24.0</td>\n    </tr>\n    <tr>\n      <th>P35</th>\n      <td>137.0</td>\n      <td>2.029197e+00</td>\n      <td>3.436272e+00</td>\n      <td>0.0</td>\n      <td>0.0</td>\n      <td>0.0</td>\n      <td>4.0</td>\n      <td>15.0</td>\n    </tr>\n    <tr>\n      <th>P36</th>\n      <td>137.0</td>\n      <td>2.211679e+00</td>\n      <td>4.168211e+00</td>\n      <td>0.0</td>\n      <td>0.0</td>\n      <td>0.0</td>\n      <td>3.0</td>\n      <td>20.0</td>\n    </tr>\n    <tr>\n      <th>P37</th>\n      <td>137.0</td>\n      <td>1.116788e+00</td>\n      <td>1.790768e+00</td>\n      <td>0.0</td>\n      <td>0.0</td>\n      <td>0.0</td>\n      <td>2.0</td>\n      <td>8.0</td>\n    </tr>\n    <tr>\n      <th>revenue</th>\n      <td>137.0</td>\n      <td>4.453533e+06</td>\n      <td>2.576072e+06</td>\n      <td>1149870.0</td>\n      <td>2999068.0</td>\n      <td>3939804.0</td>\n      <td>5166635.0</td>\n      <td>19696939.0</td>\n    </tr>\n  </tbody>\n</table>\n</div>"
     },
     "execution_count": 7,
     "metadata": {},
     "output_type": "execute_result"
    }
   ]
  },
  {
   "cell_type": "code",
   "source": [
    "df = df.drop(df.iloc[:, 1:5], axis=1)\n",
    "test = test.drop(test.iloc[:, 1:5], axis=1)"
   ],
   "metadata": {
    "execution": {
     "iopub.status.busy": "2021-12-17T17:18:44.506937Z",
     "iopub.execute_input": "2021-12-17T17:18:44.507635Z",
     "iopub.status.idle": "2021-12-17T17:18:44.539932Z",
     "shell.execute_reply.started": "2021-12-17T17:18:44.507585Z",
     "shell.execute_reply": "2021-12-17T17:18:44.539336Z"
    },
    "trusted": true
   },
   "execution_count": 10,
   "outputs": []
  },
  {
   "cell_type": "code",
   "source": [
    "target = df['revenue']\n",
    "train = df.drop('revenue', axis=1)"
   ],
   "metadata": {
    "execution": {
     "iopub.status.busy": "2021-12-17T17:18:44.540874Z",
     "iopub.execute_input": "2021-12-17T17:18:44.541496Z",
     "iopub.status.idle": "2021-12-17T17:18:44.546611Z",
     "shell.execute_reply.started": "2021-12-17T17:18:44.541460Z",
     "shell.execute_reply": "2021-12-17T17:18:44.546016Z"
    },
    "trusted": true
   },
   "execution_count": 11,
   "outputs": []
  },
  {
   "cell_type": "code",
   "source": [
    "train_dum = pd.get_dummies(train, drop_first=True)"
   ],
   "metadata": {
    "execution": {
     "iopub.status.busy": "2021-12-17T17:30:25.864720Z",
     "iopub.execute_input": "2021-12-17T17:30:25.864979Z",
     "iopub.status.idle": "2021-12-17T17:30:25.876118Z",
     "shell.execute_reply.started": "2021-12-17T17:30:25.864952Z",
     "shell.execute_reply": "2021-12-17T17:30:25.875428Z"
    },
    "trusted": true
   },
   "execution_count": 12,
   "outputs": []
  },
  {
   "cell_type": "code",
   "source": [
    "test_dum = pd.get_dummies(test,drop_first=True)"
   ],
   "metadata": {
    "execution": {
     "iopub.status.busy": "2021-12-17T17:30:23.037376Z",
     "iopub.execute_input": "2021-12-17T17:30:23.037671Z",
     "iopub.status.idle": "2021-12-17T17:30:23.186407Z",
     "shell.execute_reply.started": "2021-12-17T17:30:23.037637Z",
     "shell.execute_reply": "2021-12-17T17:30:23.185513Z"
    },
    "trusted": true
   },
   "execution_count": 13,
   "outputs": []
  },
  {
   "cell_type": "code",
   "source": [
    "test_dum = test_dum.loc[:,test_dum.columns.isin(train_dum.columns)]"
   ],
   "metadata": {
    "execution": {
     "iopub.status.busy": "2021-12-17T17:33:23.765203Z",
     "iopub.execute_input": "2021-12-17T17:33:23.765521Z",
     "iopub.status.idle": "2021-12-17T17:33:23.785303Z",
     "shell.execute_reply.started": "2021-12-17T17:33:23.765489Z",
     "shell.execute_reply": "2021-12-17T17:33:23.784648Z"
    },
    "trusted": true
   },
   "execution_count": 14,
   "outputs": []
  },
  {
   "cell_type": "code",
   "source": [
    "train_dum = train_dum.loc[:,train_dum.columns.isin(test_dum.columns)]"
   ],
   "metadata": {
    "execution": {
     "iopub.status.busy": "2021-12-17T17:33:48.760135Z",
     "iopub.execute_input": "2021-12-17T17:33:48.760478Z",
     "iopub.status.idle": "2021-12-17T17:33:48.765912Z",
     "shell.execute_reply.started": "2021-12-17T17:33:48.760441Z",
     "shell.execute_reply": "2021-12-17T17:33:48.765256Z"
    },
    "trusted": true
   },
   "execution_count": 15,
   "outputs": []
  },
  {
   "cell_type": "code",
   "source": [
    "log_model = LogisticRegression(solver='liblinear')\n",
    "log_model.fit(train_dum, target)"
   ],
   "metadata": {
    "execution": {
     "iopub.status.busy": "2021-12-17T17:34:07.542635Z",
     "iopub.execute_input": "2021-12-17T17:34:07.543156Z",
     "iopub.status.idle": "2021-12-17T17:34:07.673542Z",
     "shell.execute_reply.started": "2021-12-17T17:34:07.543122Z",
     "shell.execute_reply": "2021-12-17T17:34:07.672499Z"
    },
    "trusted": true
   },
   "execution_count": 16,
   "outputs": [
    {
     "data": {
      "text/plain": "LogisticRegression(solver='liblinear')"
     },
     "execution_count": 16,
     "metadata": {},
     "output_type": "execute_result"
    }
   ]
  },
  {
   "cell_type": "code",
   "execution_count": 18,
   "outputs": [],
   "source": [
    "import pickle\n",
    "pickle.dump(log_model, open('../models/logistic.pkt', 'wb'))"
   ],
   "metadata": {
    "collapsed": false,
    "pycharm": {
     "name": "#%%\n"
    }
   }
  },
  {
   "cell_type": "code",
   "source": [
    "predicted_test = log_model.predict(test_dum)"
   ],
   "metadata": {
    "execution": {
     "iopub.status.busy": "2021-12-17T17:34:20.828055Z",
     "iopub.execute_input": "2021-12-17T17:34:20.828381Z",
     "iopub.status.idle": "2021-12-17T17:34:21.118568Z",
     "shell.execute_reply.started": "2021-12-17T17:34:20.828351Z",
     "shell.execute_reply": "2021-12-17T17:34:21.117626Z"
    },
    "trusted": true
   },
   "execution_count": 26,
   "outputs": []
  },
  {
   "cell_type": "code",
   "source": "predicted_test",
   "metadata": {
    "execution": {
     "iopub.status.busy": "2021-12-17T17:34:45.821841Z",
     "iopub.execute_input": "2021-12-17T17:34:45.822110Z",
     "iopub.status.idle": "2021-12-17T17:34:45.828622Z",
     "shell.execute_reply.started": "2021-12-17T17:34:45.822073Z",
     "shell.execute_reply": "2021-12-17T17:34:45.827584Z"
    },
    "trusted": true
   },
   "execution_count": 27,
   "outputs": []
  },
  {
   "cell_type": "code",
   "source": "out = test['Id'].to_frame().copy()\nout['Prediction'] = predicted_test",
   "metadata": {
    "execution": {
     "iopub.status.busy": "2021-12-17T17:34:49.505981Z",
     "iopub.execute_input": "2021-12-17T17:34:49.506865Z",
     "iopub.status.idle": "2021-12-17T17:34:49.512658Z",
     "shell.execute_reply.started": "2021-12-17T17:34:49.506828Z",
     "shell.execute_reply": "2021-12-17T17:34:49.512032Z"
    },
    "trusted": true
   },
   "execution_count": 28,
   "outputs": []
  },
  {
   "cell_type": "code",
   "source": "out.to_csv('my_submission.csv', index=False)",
   "metadata": {
    "execution": {
     "iopub.status.busy": "2021-12-17T17:34:54.686471Z",
     "iopub.execute_input": "2021-12-17T17:34:54.686817Z",
     "iopub.status.idle": "2021-12-17T17:34:54.996359Z",
     "shell.execute_reply.started": "2021-12-17T17:34:54.686777Z",
     "shell.execute_reply": "2021-12-17T17:34:54.995469Z"
    },
    "trusted": true
   },
   "execution_count": 29,
   "outputs": []
  },
  {
   "cell_type": "code",
   "source": "",
   "metadata": {},
   "execution_count": null,
   "outputs": []
  }
 ]
}